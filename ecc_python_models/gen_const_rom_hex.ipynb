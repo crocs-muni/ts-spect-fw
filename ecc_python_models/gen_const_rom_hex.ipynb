{
 "cells": [
  {
   "cell_type": "code",
   "execution_count": 18,
   "metadata": {},
   "outputs": [],
   "source": [
    "data = {\n",
    "    \"p256\" : 2**256 - 2**224 + 2**192 + 2**96 - 1,\n",
    "    \"p256_q\" : 0xffffffff00000000ffffffffffffffffbce6faada7179e84f3b9cac2fc632551,\n",
    "    \"p256_exp_low\" : 0xbce6faada7179e84f3b9cac2fc63254f,\n",
    "    \"p256_b\" : 0x5ac635d8aa3a93e7b3ebbd55769886bc651d06b0cc53b0f63bce3c3e27d2604b,\n",
    "    \"p256_xG\" : 0x6b17d1f2e12c4247f8bce6e563a440f277037d812deb33a0f4a13945d898c296,\n",
    "    \"p256_yG\" : 0x4fe342e2fe1a7f9b8ee7eb4a7c0f9e162bce33576b315ececbb6406837bf51f5,\n",
    "    \"p25519\" : 2**255 - 19,\n",
    "    \"q25519\" : 2**252 + 27742317777372353535851937790883648493,\n",
    "    \"q25519_8\" : (2**252 + 27742317777372353535851937790883648493) * 8,\n",
    "    \"ed25519_xG\" : 0x216936d3cd6e53fec0a4e231fdd6dc5c692cc7609525a7b2c9562d608f25d51a,\n",
    "    \"ed25519_yG\" : 0x6666666666666666666666666666666666666666666666666666666666666658,\n",
    "    \"x25519_a24\" : 121665,\n",
    "    \"key\" : 29852220098221261079183923314599206100666902414330245206392788703677545185283\n",
    "}"
   ]
  },
  {
   "cell_type": "code",
   "execution_count": 19,
   "metadata": {},
   "outputs": [],
   "source": [
    "def print_data(d, f):\n",
    "    for i in range(8):\n",
    "        f.write(format((d >> i*32) & 0xffffffff, '08X') + \"\\n\")"
   ]
  },
  {
   "cell_type": "code",
   "execution_count": 20,
   "metadata": {},
   "outputs": [],
   "source": [
    "f = open(\"../const_rom.hex\", \"w\")\n",
    "for d in data.values():\n",
    "    print_data(d, f)\n",
    "f.close()\n",
    "\n",
    "f = open(\"../const_rom_leyout.s\", \"w\")\n",
    "addr = 0x3000\n",
    "for key in data.keys():\n",
    "    f.write(\"c_{}_addr .eq 0x{}\\n\".format(key, format(addr, '04X')))\n",
    "    addr += 32\n",
    "f.close()\n"
   ]
  }
 ],
 "metadata": {
  "kernelspec": {
   "display_name": "Python 3.8.13 64-bit",
   "language": "python",
   "name": "python3"
  },
  "language_info": {
   "codemirror_mode": {
    "name": "ipython",
    "version": 3
   },
   "file_extension": ".py",
   "mimetype": "text/x-python",
   "name": "python",
   "nbconvert_exporter": "python",
   "pygments_lexer": "ipython3",
   "version": "3.8.13"
  },
  "orig_nbformat": 4,
  "vscode": {
   "interpreter": {
    "hash": "5b3ded1ccb95c1d9bd405e7b823d9e85424cde40fbb5985eb47e999ef50e15b4"
   }
  }
 },
 "nbformat": 4,
 "nbformat_minor": 2
}
