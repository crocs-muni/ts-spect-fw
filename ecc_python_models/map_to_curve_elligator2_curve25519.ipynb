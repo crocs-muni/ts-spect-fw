{
 "cells": [
  {
   "cell_type": "code",
   "execution_count": 70,
   "metadata": {},
   "outputs": [],
   "source": [
    "import random as rn\n",
    "import binascii\n",
    "import hashlib\n",
    "import math"
   ]
  },
  {
   "cell_type": "code",
   "execution_count": 49,
   "metadata": {},
   "outputs": [],
   "source": [
    "p = 2**255 - 19\n",
    "A = 486662"
   ]
  },
  {
   "cell_type": "code",
   "execution_count": 50,
   "metadata": {},
   "outputs": [
    {
     "name": "stdout",
     "output_type": "stream",
     "text": [
      "0x7fffffffffffffffffffffffffffffffffffffffffffffffffffffffffffffed\n"
     ]
    }
   ],
   "source": [
    "print(hex(p))"
   ]
  },
  {
   "cell_type": "code",
   "execution_count": 73,
   "metadata": {},
   "outputs": [
    {
     "name": "stdout",
     "output_type": "stream",
     "text": [
      "0xffffffffffffffffffffffffffffffffffffffffffffffffffffffffffffffe\n",
      "0x2b8324804fc1df0b2b4d00993dfbd7a72f431806ad2fe478c4ee1b274a0ea0b1\n",
      "0x2b8324804fc1df0b2b4d00993dfbd7a72f431806ad2fe478c4ee1b274a0ea0b0\n",
      "0xffffffffffffffffffffffffffffffffffffffffffffffffffffffffffffffd\n",
      "True\n"
     ]
    }
   ],
   "source": [
    "c1 = (p + 3) // 8       # Integer arithmetic\n",
    "c2 = pow(2, c1, p)\n",
    "c3 = pow(2, (p-1) // 4, p)\n",
    "c4 = (p - 5) // 8       # Integer arithmetic\n",
    "\n",
    "print(hex(c1))\n",
    "print(hex(c2))\n",
    "print(hex(c3))\n",
    "print(hex(c4))\n",
    "print(c2 == c3 + 1)\n"
   ]
  },
  {
   "cell_type": "code",
   "execution_count": 103,
   "metadata": {},
   "outputs": [
    {
     "name": "stdout",
     "output_type": "stream",
     "text": [
      "252.0\n",
      "0b111111111111111111111111111111111111111111111111111111111111111111111111111111111111111111111111111111111111111111111111111111111111111111111111111111111111111111111111111111111111111111111111111111111111111111111111111111111111111111111111111111111101\n"
     ]
    }
   ],
   "source": [
    "w = 0xffffffffffffffffffffffffffffffffffffffffffffffffffffffffffffffd\n",
    "print(math.log2(w))\n",
    "print(bin(w))"
   ]
  },
  {
   "cell_type": "code",
   "execution_count": 102,
   "metadata": {},
   "outputs": [
    {
     "name": "stdout",
     "output_type": "stream",
     "text": [
      "0x7b5b8c3d947f0533bc21452c15a6f45cad761ec4f7a475cff5c36ef0410cbd6\n"
     ]
    }
   ],
   "source": [
    "qp = pow(0x63b5154e8c80d61c717393708d628efe4959c7129c17298ec7a5777eb4e64c27, 2**250-1, p)\n",
    "qp = qp * qp % p\n",
    "qp = qp * 0x63b5154e8c80d61c717393708d628efe4959c7129c17298ec7a5777eb4e64c27 % p\n",
    "print(hex(qp))\n"
   ]
  },
  {
   "cell_type": "code",
   "execution_count": 69,
   "metadata": {},
   "outputs": [
    {
     "name": "stdout",
     "output_type": "stream",
     "text": [
      "0xffffffffffffffffffffffffffffffffffffffffffffffffffffffffffffffd\n"
     ]
    }
   ],
   "source": [
    "print(hex(p >> 3))"
   ]
  },
  {
   "cell_type": "code",
   "execution_count": 52,
   "metadata": {},
   "outputs": [],
   "source": [
    "def is_on_curve25519(x, y):\n",
    "    return pow(y, 2, p) == (pow(x, 3, p) + A * pow(x, 2, p) + x) % p"
   ]
  },
  {
   "cell_type": "code",
   "execution_count": 53,
   "metadata": {},
   "outputs": [],
   "source": [
    "def int2bytes(i) -> str:\n",
    "    hex_string = '%x' % i\n",
    "    n = len(hex_string)\n",
    "    return binascii.unhexlify(hex_string.zfill(n + (n & 1)))"
   ]
  },
  {
   "cell_type": "code",
   "execution_count": 62,
   "metadata": {},
   "outputs": [],
   "source": [
    "def print_bytes(s: str, b: bytes):\n",
    "    print(s, \"\".join(format(x, \"02x\") for x in b))"
   ]
  },
  {
   "cell_type": "code",
   "execution_count": 83,
   "metadata": {},
   "outputs": [],
   "source": [
    "def cmov(a, b, c):\n",
    "    print(\"cmov: \", not c)\n",
    "    if not c:\n",
    "        return a\n",
    "    return b\n",
    "    \n",
    "def sgn0(x):\n",
    "    return x % 2\n",
    "\n",
    "def inv0(x):\n",
    "    return pow(x, p-2, p)"
   ]
  },
  {
   "cell_type": "code",
   "execution_count": 56,
   "metadata": {},
   "outputs": [],
   "source": [
    "def sha512(s):\n",
    "    return hashlib.sha512(s).digest()"
   ]
  },
  {
   "cell_type": "code",
   "execution_count": 57,
   "metadata": {},
   "outputs": [],
   "source": [
    "def expand_message(MSG: bytes, DST: bytes) -> bytes:\n",
    "    EXP_TAG = int2bytes(0x8000000000000000000000000000000000000000000000000000000000545301)\n",
    "    MSG = EXP_TAG + MSG + int2bytes(0x20) + DST + int2bytes(0x1E)\n",
    "    print_bytes(\"to expand: \", MSG)\n",
    "    print(len(MSG))\n",
    "    return sha512(MSG)"
   ]
  },
  {
   "cell_type": "code",
   "execution_count": 58,
   "metadata": {},
   "outputs": [],
   "source": [
    "def hash_to_field(MSG: str, DST: str) -> int:\n",
    "    expanded = expand_message(MSG, DST)\n",
    "    print_bytes(\"expanded: \", expanded)\n",
    "    return int.from_bytes(expanded, 'big') % p"
   ]
  },
  {
   "cell_type": "code",
   "execution_count": 98,
   "metadata": {},
   "outputs": [],
   "source": [
    "def map_to_curve_elligator2_curve25519(u):\n",
    "    tv1 = pow(u, 2, p)\n",
    "    tv1 = 2 * tv1 % p\n",
    "    xd = tv1 + 1 % p        # Nonzero: -1 is square (mod p), tv1 is not\n",
    "    x1n = -A  % p             # x1 = x1n / xd = -A / (1 + 2 * u^2)\n",
    "    tv2 = pow(xd, 2, p)\n",
    "    gxd = tv2 * xd  % p       # gxd = xd^3\n",
    "    gx1 = A * tv1  % p        # x1n + A * xd\n",
    "    gx1 = gx1 * x1n  % p      # x1n^2 + A * x1n * xd\n",
    "    gx1 = gx1 + tv2  % p      # x1n^2 + A * x1n * xd + xd^2\n",
    "    gx1 = gx1 * x1n  % p      # x1n^3 + A * x1n^2 * xd + x1n * xd^2\n",
    "    tv3 = pow(gxd, 2, p)\n",
    "    tv2 = pow(tv3, 2, p)           # gxd^4\n",
    "    tv3 = tv3 * gxd % p       # gxd^3\n",
    "    tv3 = tv3 * gx1 % p       # gx1 * gxd^3\n",
    "    tv2 = tv2 * tv3 % p       # gx1 * gxd^7\n",
    "    print(\"tv2: \", hex(tv2))\n",
    "    y11 = pow(tv2, c4, p)          # (gx1 * gxd^7)^((p - 5) / 8)\n",
    "    print(\"y11: \", hex(y11))\n",
    "    y11 = y11 * tv3  % p       # gx1 * gxd^3 * (gx1 * gxd^7)^((p - 5) / 8)\n",
    "    y12 = y11 * c3  % p\n",
    "    tv2 = pow(y11, 2, p)\n",
    "    tv2 = tv2 * gxd  % p\n",
    "    e1 = tv2 == gx1\n",
    "    y1 = cmov(y12, y11, e1)  # If g(x1) is square, this is its sqrt\n",
    "    x2n = x1n * tv1  % p          # x2 = x2n / xd = 2 * u^2 * x1n / xd\n",
    "    y21 = y11 * u  % p\n",
    "    y21 = y21 * c2 % p\n",
    "    y22 = y21 * c3 % p\n",
    "    gx2 = gx1 * tv1  % p          # g(x2) = gx2 / gxd = 2 * u^2 * g(x1)\n",
    "    tv2 = pow(y21, 2, p)\n",
    "    tv2 = tv2 * gxd % p\n",
    "    e2 = tv2 == gx2\n",
    "    y2 = cmov(y22, y21, e2)  # If g(x2) is square, this is its sqrt\n",
    "    tv2 = pow(y1, 2, p)\n",
    "    tv2 = tv2 * gxd % p\n",
    "    e3 = tv2 == gx1\n",
    "    xn = cmov(x2n, x1n, e3)  # If e3, x = x1, else x = x2\n",
    "    y = cmov(y2, y1, e3)    # If e3, y = y1, else y = y2\n",
    "    e4 = sgn0(y) == 1        # Fix sign of y\n",
    "    y = cmov(y, -y, e3 ^ e4)\n",
    "    return (xn, xd, y, 1)"
   ]
  },
  {
   "cell_type": "code",
   "execution_count": 64,
   "metadata": {},
   "outputs": [],
   "source": [
    "def point_generate(DST: str, rng: int):\n",
    "    m = int2bytes(rng)\n",
    "    print(\"rng: \", hex(rng))\n",
    "    print_bytes(\"m: \", m)\n",
    "\n",
    "    u = hash_to_field(m, DST)\n",
    "\n",
    "    print(\"u: \", hex(u))\n",
    "\n",
    "    xn, xd, yn, yd = map_to_curve_elligator2_curve25519(u)\n",
    "\n",
    "    x = xn * inv0(xd) % p\n",
    "    y = yn * inv0(yd) % p\n",
    "\n",
    "    return x, y"
   ]
  },
  {
   "cell_type": "code",
   "execution_count": 66,
   "metadata": {},
   "outputs": [],
   "source": [
    "rng = rn.randint(0, 2**256 - 1)"
   ]
  },
  {
   "cell_type": "code",
   "execution_count": 104,
   "metadata": {},
   "outputs": [
    {
     "name": "stdout",
     "output_type": "stream",
     "text": [
      "rng:  0xd68328b42d3f338b23303da1fd12a73a0d3fb1a1348f4ae2e51aca3584fd2712\n",
      "m:  d68328b42d3f338b23303da1fd12a73a0d3fb1a1348f4ae2e51aca3584fd2712\n",
      "to expand:  8000000000000000000000000000000000000000000000000000000000545301d68328b42d3f338b23303da1fd12a73a0d3fb1a1348f4ae2e51aca3584fd27122054535f53504543545f4453540000000000000000000000000000000000d81e\n",
      "96\n",
      "expanded:  4d30f65289b0b974e4e7a3240543db0c818d848a405d74734c110c23ad625958a098725adbfde2aaad316df6875efaf789ef32b3a005f7fc956307488cfa44f0\n",
      "u:  0x15dd029b4c396a04a793a54f4f717ed2c4f0df392de54119dfead494499389c8\n",
      "xd:  0x2d5a8b57273a2d059f924d49a908977b74157c0d80f230547bbcf977fff55fd9\n",
      "gx1:  0x6cd57255ebafd0132559cbeec31349e842b12ed776907cd52eedf08118a9350c\n",
      "tv2:  0x4ca689b7bde5abc5f88eb1e2c37845a08b6f25855a9e09c1b73c32f5c06e875d\n",
      "y11:  0x7abd5f27b414938ab5af6d3c9c2bcde9d1bfc322f20b3a6352e6adadf0e3126f\n",
      "cmov:  True\n",
      "cmov:  True\n",
      "cmov:  True\n",
      "cmov:  True\n",
      "cmov:  True\n",
      "x:  0x671ad6d51a5c679fbbc15453d4284acea8241a06ec287a639449bf814e457e95\n",
      "y:  0x30d06c46219f649a957534a87a0715b2386afbff325575593bae283d00ae10c2\n",
      "True\n",
      "======================================================\n",
      "rng:  0xa192b67a29cb785ba659fe80fabb051cd17a0316a588b64a31ac70938c200f40\n",
      "m:  a192b67a29cb785ba659fe80fabb051cd17a0316a588b64a31ac70938c200f40\n",
      "to expand:  8000000000000000000000000000000000000000000000000000000000545301a192b67a29cb785ba659fe80fabb051cd17a0316a588b64a31ac70938c200f402054535f53504543545f4453540000000000000000000000000000000000d81e\n",
      "96\n",
      "expanded:  7c4b9e1e5d9889713d5920d5e8d69cc559ac07508b1492ab13977e6003e75079c7ace733ac954af85fb67a401c3a3224fa572fd66a244fdcc6aac876a80c7046\n",
      "u:  0x3ae65fb59139b1c77af15a00ac15777049e045cb0f321541af278ab73c62650e\n",
      "xd:  0x22925a11bf8c13d2aa6724bbe0c99b5b148a663503547c16c3196acef6afa041\n",
      "gx1:  0x1643e7cdac7bd24fea3200a05b5cfbaa34360ef8716fef4c50bb5eaff13f1d09\n",
      "tv2:  0x7056d8420273310f4ecc70e7d6ffce4d536d3bc9229935b5828dbc8df89c1de7\n",
      "y11:  0x26a8151e7b7c4a7dc4cf4bc606968a94f1f3b2d4ccceef152da83e4d2629d2f4\n",
      "cmov:  True\n",
      "cmov:  True\n",
      "cmov:  False\n",
      "cmov:  False\n",
      "cmov:  True\n",
      "x:  0x52e93a4913a6a329e15e0eaadf72579fb9c325a6247457e9afa3db3353d7682f\n",
      "y:  0x6e7dc11f54f65def1a1f6794a8dfa06d08635836905b3f63f2fd8b5b03f59bd1\n",
      "True\n",
      "======================================================\n",
      "rng:  0xe49867eae8258ab9572f35164482ae2f7baf1ffb38712c330914af86b36320d7\n",
      "m:  e49867eae8258ab9572f35164482ae2f7baf1ffb38712c330914af86b36320d7\n",
      "to expand:  8000000000000000000000000000000000000000000000000000000000545301e49867eae8258ab9572f35164482ae2f7baf1ffb38712c330914af86b36320d72054535f53504543545f4453540000000000000000000000000000000000d81e\n",
      "96\n",
      "expanded:  861d930770b41a7c42815eb9653331f16b64f1882c7a8bad0b9eb3e2ea74d9f7ed16a0108a34ccb8697e81b655cd3b60bc4eafe8a448d28ef07ed84613fd1823\n",
      "u:  0x557a732b44f0bb2a48b2913b5b66a536ad4a8a1f3e798e3eaa0d8bf4e15575d8\n",
      "xd:  0x1dbe340986ef22a8f6961fe8a2ad97463024a27f5696ba361813ef695e5ab9d9\n",
      "gx1:  0x1adff736edfb7f0e92773f76dc65bf252b8764f94c4c0e1099490e1fec4a1c04\n",
      "tv2:  0x4128fe8ab33f2099ec3515cbb847a4ba0b8fc548ee7cabba491697df32cd6e8a\n",
      "y11:  0x5c98c9aedb979d63983b9363f0af925cf5c06c965f4d95f71d287e8fa68833ec\n",
      "cmov:  True\n",
      "cmov:  True\n",
      "cmov:  True\n",
      "cmov:  True\n",
      "cmov:  False\n",
      "x:  0x12e3bc392dfb9dd53bb2c87a199f31553476eaf7cb8e34a94109076377de861a\n",
      "y:  0x72e51281406226a47166511d1f3b464ad03670152eb151b79b22d519d0a4f4d6\n",
      "True\n",
      "======================================================\n",
      "rng:  0xa9416b710b3458b6b1fa07b9b8917de4a18c290a38ef23b5f14a1f3f602dacd5\n",
      "m:  a9416b710b3458b6b1fa07b9b8917de4a18c290a38ef23b5f14a1f3f602dacd5\n",
      "to expand:  8000000000000000000000000000000000000000000000000000000000545301a9416b710b3458b6b1fa07b9b8917de4a18c290a38ef23b5f14a1f3f602dacd52054535f53504543545f4453540000000000000000000000000000000000d81e\n",
      "96\n",
      "expanded:  d7cd065c66764f6f93a30ed8a2c8ae412888db18206c413c63aed6cbf665f162ecc8c3c3150a18384c812aa2d5d3acbb621d3b239ac942ab46c75680eda775f0\n",
      "u:  0x7537b57a4a99e2c836b55ecaff9d8a67666dc0b86adaf1a212bb38c780c94f4f\n",
      "xd:  0x3ed006e926b6e5aa19146d1c99a0998d6b4dea4585caaa41bd1090e2fbb23548\n",
      "gx1:  0x3c317df30fb97e3944b7ef792e02bf221879c023150a267e7248ec5c3c12b74a\n",
      "tv2:  0x241bf9d0d6f5007dc61ac6cc7aaa7dd98807aebd5f471a5786770422cf6a28c2\n",
      "y11:  0x1680e1fb33e9989ffcf78a48deb4e618916a8fbe374cdda9ff11f4138e374a4e\n",
      "cmov:  False\n",
      "cmov:  True\n",
      "cmov:  False\n",
      "cmov:  False\n",
      "cmov:  True\n",
      "x:  0x6ea04d7cd6dbded0d0d13140b4ca05f3a6e67a64b3b1a00c87e7a7b83c156cb8\n",
      "y:  0x621cb78fcf53fe57ba79618e9339936cb51ac1bceee7a96ba065c38c893ec523\n",
      "True\n",
      "======================================================\n"
     ]
    }
   ],
   "source": [
    "for i in range(4):\n",
    "    rng = rn.randint(0, 2**256 - 1)\n",
    "    DST = int2bytes(0x54535F53504543545F4453540000000000000000000000000000000000D8)\n",
    "    x, y = point_generate(DST, rng)\n",
    "\n",
    "    print(\"x: \", hex(x))\n",
    "    print(\"y: \", hex(y))\n",
    "    print(is_on_curve25519(x, y))\n",
    "    print(\"======================================================\")"
   ]
  },
  {
   "cell_type": "code",
   "execution_count": 52,
   "metadata": {},
   "outputs": [
    {
     "name": "stdout",
     "output_type": "stream",
     "text": [
      "0x1b898a0b2ff3e1766310aafe636344854d567706074eaa5e36e41a0e7ad206b5\n"
     ]
    }
   ],
   "source": [
    "u = rn.randint(0, p-1)\n",
    "print(hex(u))"
   ]
  },
  {
   "cell_type": "code",
   "execution_count": 56,
   "metadata": {},
   "outputs": [
    {
     "name": "stdout",
     "output_type": "stream",
     "text": [
      "0x1707caa60b5e50ec85d273fcc8cd805c5dc8daa55e7a02b8b7b7298a36102ed2\n",
      "0x48d3bb8f816b184a1b6a9641e826435049b50fcdb54da0ebd975c996ecaa3795\n"
     ]
    }
   ],
   "source": [
    "xn, xd, yn, yd = map_to_curve_elligator2_curve25519(u)\n",
    "\n",
    "x = xn * inv0(xd) % p\n",
    "y = yn * inv0(yd) % p\n",
    "\n",
    "print(hex(x))\n",
    "print(hex(y))"
   ]
  },
  {
   "cell_type": "code",
   "execution_count": 57,
   "metadata": {},
   "outputs": [
    {
     "data": {
      "text/plain": [
       "True"
      ]
     },
     "execution_count": 57,
     "metadata": {},
     "output_type": "execute_result"
    }
   ],
   "source": [
    "pow(y, 2, p) == (pow(x, 3, p) + A * pow(x, 2, p) + x) % p"
   ]
  },
  {
   "cell_type": "code",
   "execution_count": null,
   "metadata": {},
   "outputs": [],
   "source": [
    "for i in range(1000):\n",
    "    u = rn.randint(0, p-1)\n",
    "    xn, xd, yn, yd = map_to_curve_elligator2_curve25519(u)\n",
    "    x = xn * inv0(xd) % p\n",
    "    y = yn * inv0(yd) % p\n",
    "    if not is_on_curve25519(x, y):\n",
    "        print(\"Failed on \", hex(u))\n",
    "        break\n",
    "print(\"END\")"
   ]
  }
 ],
 "metadata": {
  "kernelspec": {
   "display_name": "Python 3.8.13 64-bit",
   "language": "python",
   "name": "python3"
  },
  "language_info": {
   "codemirror_mode": {
    "name": "ipython",
    "version": 3
   },
   "file_extension": ".py",
   "mimetype": "text/x-python",
   "name": "python",
   "nbconvert_exporter": "python",
   "pygments_lexer": "ipython3",
   "version": "3.8.13"
  },
  "orig_nbformat": 4,
  "vscode": {
   "interpreter": {
    "hash": "5b3ded1ccb95c1d9bd405e7b823d9e85424cde40fbb5985eb47e999ef50e15b4"
   }
  }
 },
 "nbformat": 4,
 "nbformat_minor": 2
}
