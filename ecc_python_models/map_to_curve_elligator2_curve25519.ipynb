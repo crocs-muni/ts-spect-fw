{
 "cells": [
  {
   "cell_type": "code",
   "execution_count": 29,
   "metadata": {},
   "outputs": [],
   "source": [
    "import random as rn"
   ]
  },
  {
   "cell_type": "code",
   "execution_count": 37,
   "metadata": {},
   "outputs": [],
   "source": [
    "p = 2**255 - 19\n",
    "A = 486662"
   ]
  },
  {
   "cell_type": "code",
   "execution_count": 23,
   "metadata": {},
   "outputs": [
    {
     "name": "stdout",
     "output_type": "stream",
     "text": [
      "0x7fffffffffffffffffffffffffffffffffffffffffffffffffffffffffffffed\n"
     ]
    }
   ],
   "source": [
    "print(hex(p))"
   ]
  },
  {
   "cell_type": "code",
   "execution_count": 55,
   "metadata": {},
   "outputs": [
    {
     "name": "stdout",
     "output_type": "stream",
     "text": [
      "0xffffffffffffffffffffffffffffffffffffffffffffffffffffffffffffffe\n",
      "0x2b8324804fc1df0b2b4d00993dfbd7a72f431806ad2fe478c4ee1b274a0ea0b1\n",
      "0x2b8324804fc1df0b2b4d00993dfbd7a72f431806ad2fe478c4ee1b274a0ea0b0\n",
      "0xffffffffffffffffffffffffffffffffffffffffffffffffffffffffffffffd\n"
     ]
    }
   ],
   "source": [
    "c1 = (p + 3) // 8       # Integer arithmetic\n",
    "c2 = pow(2, c1, p)\n",
    "c3 = pow(2, (p-1) // 4, p)\n",
    "c4 = (p - 5) // 8       # Integer arithmetic\n",
    "\n",
    "print(hex(c1))\n",
    "print(hex(c2))\n",
    "print(hex(c3))\n",
    "print(hex(c4))\n"
   ]
  },
  {
   "cell_type": "code",
   "execution_count": null,
   "metadata": {},
   "outputs": [],
   "source": [
    "def is_on_curve25519(x, y):\n",
    "    return pow(y, 2, p) == (pow(x, 3, p) + A * pow(x, 2, p) + x) % p"
   ]
  },
  {
   "cell_type": "code",
   "execution_count": 40,
   "metadata": {},
   "outputs": [],
   "source": [
    "def cmov(a, b, c):\n",
    "    if not c:\n",
    "        return a\n",
    "    return b\n",
    "    \n",
    "def sgn0(x):\n",
    "    return x % 2\n",
    "\n",
    "def inv0(x):\n",
    "    return pow(x, p-2, p)"
   ]
  },
  {
   "cell_type": "code",
   "execution_count": 48,
   "metadata": {},
   "outputs": [],
   "source": [
    "def map_to_curve_elligator2_curve25519(u):\n",
    "    tv1 = pow(u, 2, p)\n",
    "    tv1 = 2 * tv1 % p\n",
    "    xd = tv1 + 1 % p        # Nonzero: -1 is square (mod p), tv1 is not\n",
    "    x1n = -A  % p             # x1 = x1n / xd = -A / (1 + 2 * u^2)\n",
    "    tv2 = pow(xd, 2, p)\n",
    "    gxd = tv2 * xd  % p       # gxd = xd^3\n",
    "    gx1 = A * tv1  % p        # x1n + A * xd\n",
    "    gx1 = gx1 * x1n  % p      # x1n^2 + A * x1n * xd\n",
    "    gx1 = gx1 + tv2  % p      # x1n^2 + A * x1n * xd + xd^2\n",
    "    gx1 = gx1 * x1n  % p      # x1n^3 + A * x1n^2 * xd + x1n * xd^2\n",
    "    tv3 = pow(gxd, 2, p)\n",
    "    tv2 = pow(tv3, 2, p)           # gxd^4\n",
    "    tv3 = tv3 * gxd % p       # gxd^3\n",
    "    tv3 = tv3 * gx1 % p       # gx1 * gxd^3\n",
    "    tv2 = tv2 * tv3 % p       # gx1 * gxd^7\n",
    "    y11 = pow(tv2, c4, p)          # (gx1 * gxd^7)^((p - 5) / 8)\n",
    "    y11 = y11 * tv3  % p       # gx1 * gxd^3 * (gx1 * gxd^7)^((p - 5) / 8)\n",
    "    y12 = y11 * c3  % p\n",
    "    tv2 = pow(y11, 2, p)\n",
    "    tv2 = tv2 * gxd  % p\n",
    "    e1 = tv2 == gx1\n",
    "    y1 = cmov(y12, y11, e1)  # If g(x1) is square, this is its sqrt\n",
    "    x2n = x1n * tv1  % p          # x2 = x2n / xd = 2 * u^2 * x1n / xd\n",
    "    y21 = y11 * u  % p\n",
    "    y21 = y21 * c2 % p\n",
    "    y22 = y21 * c3 % p\n",
    "    gx2 = gx1 * tv1  % p          # g(x2) = gx2 / gxd = 2 * u^2 * g(x1)\n",
    "    tv2 = pow(y21, 2, p)\n",
    "    tv2 = tv2 * gxd % p\n",
    "    e2 = tv2 == gx2\n",
    "    y2 = cmov(y22, y21, e2)  # If g(x2) is square, this is its sqrt\n",
    "    tv2 = pow(y1, 2, p)\n",
    "    tv2 = tv2 * gxd % p\n",
    "    e3 = tv2 == gx1\n",
    "    xn = cmov(x2n, x1n, e3)  # If e3, x = x1, else x = x2\n",
    "    y = cmov(y2, y1, e3)    # If e3, y = y1, else y = y2\n",
    "    e4 = sgn0(y) == 1        # Fix sign of y\n",
    "    y = cmov(y, -y, e3 ^ e4)\n",
    "    return (xn, xd, y, 1)"
   ]
  },
  {
   "cell_type": "code",
   "execution_count": 52,
   "metadata": {},
   "outputs": [
    {
     "name": "stdout",
     "output_type": "stream",
     "text": [
      "0x1b898a0b2ff3e1766310aafe636344854d567706074eaa5e36e41a0e7ad206b5\n"
     ]
    }
   ],
   "source": [
    "u = rn.randint(0, p-1)\n",
    "print(hex(u))"
   ]
  },
  {
   "cell_type": "code",
   "execution_count": 56,
   "metadata": {},
   "outputs": [
    {
     "name": "stdout",
     "output_type": "stream",
     "text": [
      "0x1707caa60b5e50ec85d273fcc8cd805c5dc8daa55e7a02b8b7b7298a36102ed2\n",
      "0x48d3bb8f816b184a1b6a9641e826435049b50fcdb54da0ebd975c996ecaa3795\n"
     ]
    }
   ],
   "source": [
    "xn, xd, yn, yd = map_to_curve_elligator2_curve25519(u)\n",
    "\n",
    "x = xn * inv0(xd) % p\n",
    "y = yn * inv0(yd) % p\n",
    "\n",
    "print(hex(x))\n",
    "print(hex(y))"
   ]
  },
  {
   "cell_type": "code",
   "execution_count": 57,
   "metadata": {},
   "outputs": [
    {
     "data": {
      "text/plain": [
       "True"
      ]
     },
     "execution_count": 57,
     "metadata": {},
     "output_type": "execute_result"
    }
   ],
   "source": [
    "pow(y, 2, p) == (pow(x, 3, p) + A * pow(x, 2, p) + x) % p"
   ]
  },
  {
   "cell_type": "code",
   "execution_count": null,
   "metadata": {},
   "outputs": [],
   "source": [
    "for i in range(1000):\n",
    "    u = rn.randint(0, p-1)\n",
    "    xn, xd, yn, yd = map_to_curve_elligator2_curve25519(u)\n",
    "    x = xn * inv0(xd) % p\n",
    "    y = yn * inv0(yd) % p\n",
    "    if not is_on_curve25519(x, y):\n",
    "        print(\"Failed on \", hex(u))\n",
    "        break\n",
    "print(\"END\")"
   ]
  }
 ],
 "metadata": {
  "kernelspec": {
   "display_name": "Python 3.8.13 64-bit",
   "language": "python",
   "name": "python3"
  },
  "language_info": {
   "codemirror_mode": {
    "name": "ipython",
    "version": 3
   },
   "file_extension": ".py",
   "mimetype": "text/x-python",
   "name": "python",
   "nbconvert_exporter": "python",
   "pygments_lexer": "ipython3",
   "version": "3.8.13"
  },
  "orig_nbformat": 4,
  "vscode": {
   "interpreter": {
    "hash": "5b3ded1ccb95c1d9bd405e7b823d9e85424cde40fbb5985eb47e999ef50e15b4"
   }
  }
 },
 "nbformat": 4,
 "nbformat_minor": 2
}
