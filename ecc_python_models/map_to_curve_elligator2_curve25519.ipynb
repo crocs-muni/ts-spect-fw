{
 "cells": [
  {
   "cell_type": "code",
   "execution_count": 211,
   "metadata": {},
   "outputs": [],
   "source": [
    "import random as rn\n",
    "import binascii\n",
    "import hashlib\n",
    "import math"
   ]
  },
  {
   "cell_type": "code",
   "execution_count": 212,
   "metadata": {},
   "outputs": [],
   "source": [
    "p = 2**255 - 19\n",
    "A = 486662"
   ]
  },
  {
   "cell_type": "code",
   "execution_count": 213,
   "metadata": {},
   "outputs": [
    {
     "name": "stdout",
     "output_type": "stream",
     "text": [
      "0x7fffffffffffffffffffffffffffffffffffffffffffffffffffffffffffffed\n"
     ]
    }
   ],
   "source": [
    "print(hex(p))"
   ]
  },
  {
   "cell_type": "code",
   "execution_count": 214,
   "metadata": {},
   "outputs": [
    {
     "name": "stdout",
     "output_type": "stream",
     "text": [
      "0xffffffffffffffffffffffffffffffffffffffffffffffffffffffffffffffe\n",
      "0x2b8324804fc1df0b2b4d00993dfbd7a72f431806ad2fe478c4ee1b274a0ea0b1\n",
      "0x2b8324804fc1df0b2b4d00993dfbd7a72f431806ad2fe478c4ee1b274a0ea0b0\n",
      "0xffffffffffffffffffffffffffffffffffffffffffffffffffffffffffffffd\n",
      "0xf26edf460a006bbd27b08dc03fc4f7ec5a1d3d14b7d1a82cc6e04aaff457e06\n",
      "True\n"
     ]
    }
   ],
   "source": [
    "c1 = (p + 3) // 8       # Integer arithmetic\n",
    "c2 = pow(2, c1, p)\n",
    "c3 = pow(2, (p-1) // 4, p)\n",
    "c4 = (p - 5) // 8       # Integer arithmetic\n",
    "c5 = pow(-486664, c1, p) * c3 % p #sqrt(-486664)\n",
    "\n",
    "print(hex(c1))\n",
    "print(hex(c2))\n",
    "print(hex(c3))\n",
    "print(hex(c4))\n",
    "print(hex(c5))\n",
    "print(c5 * c5 % p == -486664 % p)\n"
   ]
  },
  {
   "cell_type": "code",
   "execution_count": 215,
   "metadata": {},
   "outputs": [
    {
     "data": {
      "text/plain": [
       "'0x7fffffffffffffffffffffffffffffffffffffffffffffffffffffffffffffec'"
      ]
     },
     "execution_count": 215,
     "metadata": {},
     "output_type": "execute_result"
    }
   ],
   "source": [
    "hex(c3 * c3 % p)"
   ]
  },
  {
   "cell_type": "code",
   "execution_count": 216,
   "metadata": {},
   "outputs": [
    {
     "name": "stdout",
     "output_type": "stream",
     "text": [
      "252.0\n",
      "0b111111111111111111111111111111111111111111111111111111111111111111111111111111111111111111111111111111111111111111111111111111111111111111111111111111111111111111111111111111111111111111111111111111111111111111111111111111111111111111111111111111111101\n"
     ]
    }
   ],
   "source": [
    "w = 0xffffffffffffffffffffffffffffffffffffffffffffffffffffffffffffffd\n",
    "print(math.log2(w))\n",
    "print(bin(w))"
   ]
  },
  {
   "cell_type": "code",
   "execution_count": 235,
   "metadata": {},
   "outputs": [],
   "source": [
    "def is_on_curve25519(x, y, z = 1):\n",
    "    if z > 1:\n",
    "        zinv = pow(z, p-2, p)\n",
    "        x = x * zinv\n",
    "        y = y * zinv\n",
    "    return pow(y, 2, p) == (pow(x, 3, p) + A * pow(x, 2, p) + x) % p"
   ]
  },
  {
   "cell_type": "code",
   "execution_count": 218,
   "metadata": {},
   "outputs": [],
   "source": [
    "def int2bytes(i) -> str:\n",
    "    hex_string = '%x' % i\n",
    "    n = len(hex_string)\n",
    "    return binascii.unhexlify(hex_string.zfill(n + (n & 1)))"
   ]
  },
  {
   "cell_type": "code",
   "execution_count": 219,
   "metadata": {},
   "outputs": [],
   "source": [
    "def print_bytes(s: str, b: bytes):\n",
    "    print(s, \"\".join(format(x, \"02x\") for x in b))"
   ]
  },
  {
   "cell_type": "code",
   "execution_count": 220,
   "metadata": {},
   "outputs": [],
   "source": [
    "def cmov(a, b, c):\n",
    "    if not c:\n",
    "        return a\n",
    "    return b\n",
    "    \n",
    "def sgn0(x):\n",
    "    return x % 2\n",
    "\n",
    "def inv0(x):\n",
    "    return pow(x, p-2, p)"
   ]
  },
  {
   "cell_type": "code",
   "execution_count": 221,
   "metadata": {},
   "outputs": [],
   "source": [
    "def sha512(s):\n",
    "    return hashlib.sha512(s).digest()"
   ]
  },
  {
   "cell_type": "code",
   "execution_count": 222,
   "metadata": {},
   "outputs": [],
   "source": [
    "def expand_message(MSG: bytes, DST: bytes) -> bytes:\n",
    "    EXP_TAG = int2bytes(0x8000000000000000000000000000000000000000000000000000000000545301)\n",
    "    MSG = EXP_TAG + MSG + int2bytes(0x20) + DST + int2bytes(0x1E)\n",
    "    #print_bytes(\"to expand: \", MSG)\n",
    "    return sha512(MSG)"
   ]
  },
  {
   "cell_type": "code",
   "execution_count": 223,
   "metadata": {},
   "outputs": [],
   "source": [
    "def hash_to_field(MSG: str, DST: str) -> int:\n",
    "    expanded = expand_message(MSG, DST)\n",
    "    #print_bytes(\"expanded: \", expanded)\n",
    "    return int.from_bytes(expanded, 'big') % p"
   ]
  },
  {
   "cell_type": "code",
   "execution_count": 252,
   "metadata": {},
   "outputs": [],
   "source": [
    "def map_to_curve_elligator2_curve25519(u):\n",
    "    tv1 = pow(u, 2, p)\n",
    "    tv1 = 2 * tv1 % p\n",
    "    xd = tv1 + 1 % p        # Nonzero: -1 is square (mod p), tv1 is not\n",
    "    x1n = -A  % p             # x1 = x1n / xd = -A / (1 + 2 * u^2)\n",
    "    tv2 = pow(xd, 2, p)\n",
    "    gxd = tv2 * xd  % p       # gxd = xd^3\n",
    "    gx1 = A * tv1  % p        # x1n + A * xd\n",
    "    gx1 = gx1 * x1n  % p      # x1n^2 + A * x1n * xd\n",
    "    gx1 = gx1 + tv2  % p      # x1n^2 + A * x1n * xd + xd^2\n",
    "    gx1 = gx1 * x1n  % p      # x1n^3 + A * x1n^2 * xd + x1n * xd^2\n",
    "    tv3 = pow(gxd, 2, p)\n",
    "    tv2 = pow(tv3, 2, p)           # gxd^4\n",
    "    tv3 = tv3 * gxd % p       # gxd^3\n",
    "    tv3 = tv3 * gx1 % p       # gx1 * gxd^3\n",
    "    tv2 = tv2 * tv3 % p       # gx1 * gxd^7\n",
    "    y11 = pow(tv2, c4, p)          # (gx1 * gxd^7)^((p - 5) / 8)\n",
    "    y11 = y11 * tv3  % p       # gx1 * gxd^3 * (gx1 * gxd^7)^((p - 5) / 8)\n",
    "    y12 = y11 * c3  % p\n",
    "    tv2 = pow(y11, 2, p)\n",
    "    tv2 = tv2 * gxd  % p\n",
    "    e1 = tv2 == gx1\n",
    "    y1 = cmov(y12, y11, e1)  # If g(x1) is square, this is its sqrt\n",
    "    x2n = x1n * tv1  % p          # x2 = x2n / xd = 2 * u^2 * x1n / xd\n",
    "    y21 = y11 * u  % p\n",
    "    y21 = y21 * c2 % p\n",
    "    y22 = y21 * c3 % p\n",
    "    gx2 = gx1 * tv1  % p          # g(x2) = gx2 / gxd = 2 * u^2 * g(x1)\n",
    "    tv2 = pow(y21, 2, p)\n",
    "    tv2 = tv2 * gxd % p\n",
    "    e2 = tv2 == gx2\n",
    "    y2 = cmov(y22, y21, e2)  # If g(x2) is square, this is its sqrt\n",
    "    tv2 = pow(y1, 2, p)\n",
    "    tv2 = tv2 * gxd % p\n",
    "    e3 = tv2 == gx1\n",
    "    xn = cmov(x2n, x1n, e3)  # If e3, x = x1, else x = x2\n",
    "    y = cmov(y2, y1, e3)    # If e3, y = y1, else y = y2\n",
    "    e4 = sgn0(y) == 1        # Fix sign of y\n",
    "    y = cmov(y, -y % p, e3 ^ e4)\n",
    "    return (xn, xd, y, 1)"
   ]
  },
  {
   "cell_type": "code",
   "execution_count": 236,
   "metadata": {},
   "outputs": [],
   "source": [
    "def point_generate_curve25519(DST: str, rng: int):\n",
    "    m = int2bytes(rng)\n",
    "    #print(\"rng: \", hex(rng))\n",
    "    #print_bytes(\"m: \", m)\n",
    "\n",
    "    u = hash_to_field(m, DST)\n",
    "\n",
    "    #print(\"u: \", hex(u))\n",
    "\n",
    "    xn, xd, yn, yd = map_to_curve_elligator2_curve25519(u)\n",
    "\n",
    "    #print(\"xn\", hex(xn))\n",
    "\n",
    "    x = xn * inv0(xd) % p\n",
    "    y = yn * inv0(yd) % p\n",
    "\n",
    "    x = xn\n",
    "    z = xd\n",
    "    y = yn * z % p\n",
    "\n",
    "    return x, y, z"
   ]
  },
  {
   "cell_type": "code",
   "execution_count": 226,
   "metadata": {},
   "outputs": [],
   "source": [
    "rng = rn.randint(0, 2**256 - 1)"
   ]
  },
  {
   "cell_type": "code",
   "execution_count": 238,
   "metadata": {},
   "outputs": [
    {
     "name": "stdout",
     "output_type": "stream",
     "text": [
      "x:  0x198156d1cad3bbb320dd2c007b3131907865fd3d7372ad1724afca1d8fcf854f\n",
      "y:  0x1d6aef266cd9bbea43dace0bcd07f723d323ea5eb4ecdc5f8b907d5e59279a96\n",
      "z:  0x169dad2744d96e4d416101540114ce150134516388346edfa4a6d9cf2166b425\n",
      "True\n"
     ]
    }
   ],
   "source": [
    "DST = int2bytes(0x54535F53504543545F4453540000000000000000000000000000000000D8)\n",
    "\n",
    "x, y, z = point_generate_curve25519(DST, rng)\n",
    "\n",
    "print(\"x: \", hex(x))\n",
    "print(\"y: \", hex(y))\n",
    "print(\"z: \", hex(z))\n",
    "print(is_on_curve25519(x, y, z))\n"
   ]
  },
  {
   "cell_type": "code",
   "execution_count": 260,
   "metadata": {},
   "outputs": [],
   "source": [
    "def point_generate_curve25519(DST: str, rng: int):\n",
    "    m = int2bytes(rng)\n",
    "    u = hash_to_field(m, DST)\n",
    "    xn, xd, yn, yd = map_to_curve_elligator2_curve25519(u)\n",
    "    x = xn * inv0(xd) % p\n",
    "    y = yn * inv0(yd) % p\n",
    "    x = xn\n",
    "    z = xd\n",
    "    y = yn * z % p\n",
    "    return x, y, z\n",
    "\n",
    "def map_to_edwards(xMn, xMd, yMn, yMd):\n",
    "    xn = xMn * yMd % p\n",
    "    xn = xn * c5 % p\n",
    "    xd = xMd * yMn % p    # xn / xd = c1 * xM / yM\n",
    "    yn = xMn - xMd % p\n",
    "    yd = xMn + xMd % p   # (n / d - 1) / (n / d + 1) = (n - d) / (n + d)\n",
    "    tv1 = xd * yd % p\n",
    "    e = tv1 == 0\n",
    "    if e:\n",
    "        return (0, 1, 1, 1)\n",
    "    return (xn, xd, yn, yd)\n",
    "\n",
    "def point_generate_ed25519(DST: str, rng: int):\n",
    "    m = int2bytes(rng)\n",
    "    u = hash_to_field(m, DST)\n",
    "    xMn, xMd, yMn, yMd = map_to_curve_elligator2_curve25519(u)\n",
    "    xn, xd, yn, yd = map_to_edwards(xMn, xMd, yMn, yMd)\n",
    "    xq = xn * pow(xd, p-2, p)\n",
    "    yq = yn * pow(yd, p-2, p)\n",
    "    x = xn * yd % p\n",
    "    y = yn * xd % p\n",
    "    z = xd * yd % p\n",
    "    return (x, y, z)\n",
    "\n",
    "def is_on_ed25519(x, y, z = 1):\n",
    "    if z > 1:\n",
    "        zinv = pow(z, p-2, p)\n",
    "        x = x * zinv\n",
    "        y = y * zinv\n",
    "    return ( -pow(x, 2, p) + pow(y, 2, p) ) % p == 1 + ( ((-121665)*pow(121666, p-2, p)) * pow(x, 2, p) * pow(y, 2, p) ) % p "
   ]
  },
  {
   "cell_type": "code",
   "execution_count": 261,
   "metadata": {},
   "outputs": [],
   "source": [
    "DST = int2bytes(0x54535F53504543545F4453540000000000000000000000000000000000D8)\n",
    "\n",
    "for r in [rn.randint(0, 2**256 - 1) for i in range(1000)]:\n",
    "    x, y, z = point_generate_ed25519(DST, r)\n",
    "    #print(\"x: \", hex(x))\n",
    "    #print(\"y: \", hex(y))\n",
    "    if not is_on_ed25519(x, y, z):\n",
    "        print(\"fail\")\n",
    "        print(hex(r))\n",
    "        break"
   ]
  },
  {
   "cell_type": "code",
   "execution_count": 230,
   "metadata": {},
   "outputs": [
    {
     "name": "stdout",
     "output_type": "stream",
     "text": [
      "0x92e9668b0661bf4bb0567ea732ad1664a7eb0e9a3b5995ab44d07ed3fd8b6fb\n"
     ]
    }
   ],
   "source": [
    "u = rn.randint(0, p-1)\n",
    "print(hex(u))"
   ]
  },
  {
   "cell_type": "code",
   "execution_count": 231,
   "metadata": {},
   "outputs": [
    {
     "name": "stdout",
     "output_type": "stream",
     "text": [
      "0xad6231d912a03e9725fc2bee70d41ae5cb862ffa78092eb83781a8cedf5d91b\n",
      "0x2a38c389719f83254cf80b9eb1e0bd4befd955212f36b9d79c392dfcc4afb2fc\n"
     ]
    }
   ],
   "source": [
    "xn, xd, yn, yd = map_to_curve_elligator2_curve25519(u)\n",
    "\n",
    "x = xn * inv0(xd) % p\n",
    "y = yn * inv0(yd) % p\n",
    "\n",
    "print(hex(x))\n",
    "print(hex(y))"
   ]
  },
  {
   "cell_type": "code",
   "execution_count": 232,
   "metadata": {},
   "outputs": [
    {
     "data": {
      "text/plain": [
       "True"
      ]
     },
     "execution_count": 232,
     "metadata": {},
     "output_type": "execute_result"
    }
   ],
   "source": [
    "pow(y, 2, p) == (pow(x, 3, p) + A * pow(x, 2, p) + x) % p"
   ]
  },
  {
   "cell_type": "code",
   "execution_count": 233,
   "metadata": {},
   "outputs": [
    {
     "name": "stdout",
     "output_type": "stream",
     "text": [
      "END\n"
     ]
    }
   ],
   "source": [
    "for i in range(1000):\n",
    "    u = rn.randint(0, p-1)\n",
    "    xn, xd, yn, yd = map_to_curve_elligator2_curve25519(u)\n",
    "    x = xn * inv0(xd) % p\n",
    "    y = yn * inv0(yd) % p\n",
    "    if not is_on_curve25519(x, y):\n",
    "        print(\"Failed on \", hex(u))\n",
    "        break\n",
    "print(\"END\")"
   ]
  }
 ],
 "metadata": {
  "kernelspec": {
   "display_name": "Python 3.8.13 64-bit",
   "language": "python",
   "name": "python3"
  },
  "language_info": {
   "codemirror_mode": {
    "name": "ipython",
    "version": 3
   },
   "file_extension": ".py",
   "mimetype": "text/x-python",
   "name": "python",
   "nbconvert_exporter": "python",
   "pygments_lexer": "ipython3",
   "version": "3.8.13"
  },
  "orig_nbformat": 4,
  "vscode": {
   "interpreter": {
    "hash": "5b3ded1ccb95c1d9bd405e7b823d9e85424cde40fbb5985eb47e999ef50e15b4"
   }
  }
 },
 "nbformat": 4,
 "nbformat_minor": 2
}
