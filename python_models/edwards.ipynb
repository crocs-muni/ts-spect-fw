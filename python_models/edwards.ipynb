{
 "cells": [
  {
   "cell_type": "code",
   "execution_count": 2,
   "metadata": {},
   "outputs": [],
   "source": [
    "p = 2**255 - 19\n",
    "d = 0x52036cee2b6ffe738cc740797779e89800700a4d4141d8ab75eb4dca135978a3"
   ]
  },
  {
   "cell_type": "code",
   "execution_count": 3,
   "metadata": {},
   "outputs": [
    {
     "name": "stdout",
     "output_type": "stream",
     "text": [
      "0x5661cfc6516d21972a6b799e3c8ad269c42ec69901d54fa652fa830d14aa02c7\n"
     ]
    }
   ],
   "source": [
    "import random as rn\n",
    "print(hex(rn.randint(0, 2**256-1)))"
   ]
  },
  {
   "cell_type": "code",
   "execution_count": 4,
   "metadata": {},
   "outputs": [],
   "source": [
    "def point_add (x1, y1, z1, t1, x2, y2, z2, t2):\n",
    "    A = (y1-x1)*(y2-x2) % p\n",
    "    B = (y1+x1)*(y2+x2) % p\n",
    "    C = t1*2*d*t2 % p\n",
    "    D = z1*2*z2 % p\n",
    "    E = B-A % p\n",
    "    F = D-C % p\n",
    "    G = D+C % p\n",
    "    H = B+A % p\n",
    "    x3 = E*F % p\n",
    "    y3 = G*H % p\n",
    "    t3 = E*H % p\n",
    "    z3 = F*G % p\n",
    "    return x3, y3, t3, z3"
   ]
  },
  {
   "cell_type": "code",
   "execution_count": 5,
   "metadata": {},
   "outputs": [],
   "source": [
    "def point_add_eq(x1, y1, x2, y2):\n",
    "    x3a = (x1 * y2 + x2 * y1) % p\n",
    "    x3b = (1 + d * x1 * x2 * y1 * y2) % p\n",
    "    x3 = (x3a * pow(x3b, p-2, p)) % p\n",
    "\n",
    "    y3a = (y1 * y2 + x1 * x2) % p\n",
    "    y3b = (1 - d * x1 * x2 * y1 * y2) % p\n",
    "    y3 = (y3a * pow(y3b, p-2, p)) % p\n",
    "    return x3, y3"
   ]
  },
  {
   "cell_type": "code",
   "execution_count": 6,
   "metadata": {},
   "outputs": [],
   "source": [
    "def shift(x, i):\n",
    "    return (x >> i) & 1"
   ]
  },
  {
   "cell_type": "code",
   "execution_count": 7,
   "metadata": {},
   "outputs": [],
   "source": [
    "xG = 0x216936d3cd6e53fec0a4e231fdd6dc5c692cc7609525a7b2c9562d608f25d51a\n",
    "yG = 0x6666666666666666666666666666666666666666666666666666666666666658\n",
    "zG = 1\n",
    "tG = 0x216936d3cd6e53fec0a4e231fdd6dc5c692cc7609525a7b2c9562d608f25d51a * 0x6666666666666666666666666666666666666666666666666666666666666658 % p"
   ]
  },
  {
   "cell_type": "code",
   "execution_count": 8,
   "metadata": {},
   "outputs": [],
   "source": [
    "def ed_spm(k):\n",
    "    xQ = 0\n",
    "    yQ = 1\n",
    "    zQ = 1\n",
    "    tQ = 0\n",
    "\n",
    "    for i in range(255, -1, -1):\n",
    "        xQ, yQ, zQ, tQ = point_add(xQ, yQ, zQ, tQ, xQ, yQ, zQ, tQ)\n",
    "        if shift(k, i):\n",
    "            xQ, yQ, zQ, tQ = point_add(xQ, yQ, zQ, tQ, xG, yG, zG, tG)\n",
    "    \n",
    "    return xQ, yQ, zQ, tQ"
   ]
  },
  {
   "cell_type": "code",
   "execution_count": 9,
   "metadata": {},
   "outputs": [],
   "source": [
    "def ed_spm_eq(k):\n",
    "    xQ = 0\n",
    "    yQ = 1\n",
    "\n",
    "    for i in range(255, -1, -1):\n",
    "        xQ, yQ = point_add_eq(xQ, yQ, xQ, yQ)\n",
    "        if shift(k, i):\n",
    "            xQ, yQ = point_add_eq(xQ, yQ, xG, yG)\n",
    "    \n",
    "    return xQ, yQ"
   ]
  },
  {
   "cell_type": "code",
   "execution_count": 10,
   "metadata": {},
   "outputs": [
    {
     "name": "stdout",
     "output_type": "stream",
     "text": [
      "0x216936d3cd6e53fec0a4e231fdd6dc5c692cc7609525a7b2c9562d608f25d51a\n",
      "0x6666666666666666666666666666666666666666666666666666666666666658\n"
     ]
    }
   ],
   "source": [
    "x3, y3 = point_add_eq(0, 1, xG, yG)\n",
    "print(hex(x3))\n",
    "print(hex(y3))"
   ]
  },
  {
   "cell_type": "code",
   "execution_count": 11,
   "metadata": {},
   "outputs": [
    {
     "name": "stdout",
     "output_type": "stream",
     "text": [
      "0x5ffffffffffffffffffffffffffffffffffffffffffffffffffffffffffffff3\n",
      "0x216936d3cd6e53fec0a4e231fdd6dc5c692cc7609525a7b2c9562d608f25d51a\n",
      "0x5272fb06866a6cd6a133e3762c993863943c29930c8453b46731350a14b947df\n",
      "0x6666666666666666666666666666666666666666666666666666666666666658\n"
     ]
    }
   ],
   "source": [
    "x3, y3, z3, t3 = point_add(0, 1, 1, 0, xG, yG, zG, tG)\n",
    "zinv = pow(z3, p-2, p)\n",
    "print(hex(x3 * zinv % p))\n",
    "print(hex(xG))\n",
    "print(hex(y3 * zinv % p))\n",
    "print(hex(yG))\n",
    "\n"
   ]
  },
  {
   "cell_type": "code",
   "execution_count": null,
   "metadata": {},
   "outputs": [],
   "source": []
  },
  {
   "cell_type": "code",
   "execution_count": 12,
   "metadata": {},
   "outputs": [
    {
     "name": "stdout",
     "output_type": "stream",
     "text": [
      "0x64c2456540d8b57ab7341be88737310e9122efb77ea911523679fe3edc6ba8d6\n",
      "0x6f467d17fc26454a1151bbe78da064b2bfcbb16258f0d39ea234592532707a55\n"
     ]
    }
   ],
   "source": [
    "k = 0x9d61b19deffd5a60ba844af492ec2cc44449c5697b326919703bac031cae7f60\n",
    "\n",
    "x3, y3 = ed_spm_eq(k)\n",
    "\n",
    "print(hex(x3))\n",
    "print(hex(y3))\n"
   ]
  },
  {
   "cell_type": "code",
   "execution_count": 13,
   "metadata": {},
   "outputs": [
    {
     "data": {
      "text/plain": [
       "'0b111111111111111111111111111111111111111111111111111111111111111111111111111111111111111111111111111111111111111111111111111111111111111111111111111111111111111111111111111111111111111111111111111111111111111111111111111111111111111111111111111111111101'"
      ]
     },
     "execution_count": 13,
     "metadata": {},
     "output_type": "execute_result"
    }
   ],
   "source": [
    "bin((p-5)//8)"
   ]
  },
  {
   "cell_type": "code",
   "execution_count": 14,
   "metadata": {},
   "outputs": [
    {
     "data": {
      "text/plain": [
       "'0b1101'"
      ]
     },
     "execution_count": 14,
     "metadata": {},
     "output_type": "execute_result"
    }
   ],
   "source": [
    "bin(0xd)\n"
   ]
  },
  {
   "cell_type": "code",
   "execution_count": 19,
   "metadata": {},
   "outputs": [
    {
     "data": {
      "text/plain": [
       "19681161376707505956807079304988542015446066515923890162744021073123829784752"
      ]
     },
     "execution_count": 19,
     "metadata": {},
     "output_type": "execute_result"
    }
   ],
   "source": [
    "hex(pow(2, (p-1) // 4, p))"
   ]
  }
 ],
 "metadata": {
  "kernelspec": {
   "display_name": "Python 3.8.13 64-bit",
   "language": "python",
   "name": "python3"
  },
  "language_info": {
   "codemirror_mode": {
    "name": "ipython",
    "version": 3
   },
   "file_extension": ".py",
   "mimetype": "text/x-python",
   "name": "python",
   "nbconvert_exporter": "python",
   "pygments_lexer": "ipython3",
   "version": "3.8.13"
  },
  "orig_nbformat": 4,
  "vscode": {
   "interpreter": {
    "hash": "5b3ded1ccb95c1d9bd405e7b823d9e85424cde40fbb5985eb47e999ef50e15b4"
   }
  }
 },
 "nbformat": 4,
 "nbformat_minor": 2
}
