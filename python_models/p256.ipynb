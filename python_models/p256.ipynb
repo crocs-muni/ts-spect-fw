{
 "cells": [
  {
   "cell_type": "code",
   "execution_count": 112,
   "metadata": {},
   "outputs": [],
   "source": [
    "import hashlib"
   ]
  },
  {
   "cell_type": "code",
   "execution_count": 113,
   "metadata": {},
   "outputs": [],
   "source": [
    "def sha256(m):\n",
    "    return int(hashlib.sha256(m).hexdigest(),16)"
   ]
  },
  {
   "cell_type": "code",
   "execution_count": 114,
   "metadata": {},
   "outputs": [],
   "source": [
    "p = 2**256 - 2**224 + 2**192 + 2**96 - 1\n",
    "q = 0xffffffff00000000ffffffffffffffffbce6faada7179e84f3b9cac2fc632551\n",
    "xG = 0x6b17d1f2e12c4247f8bce6e563a440f277037d812deb33a0f4a13945d898c296\n",
    "yG = 0x4fe342e2fe1a7f9b8ee7eb4a7c0f9e162bce33576b315ececbb6406837bf51f5\n",
    "a = p - 3"
   ]
  },
  {
   "cell_type": "code",
   "execution_count": 115,
   "metadata": {},
   "outputs": [],
   "source": [
    "def shift(x, i):\n",
    "    return (x >> i) & 1\n",
    "\n",
    "def gf_mul(a, b):\n",
    "    return (a*b) % p\n",
    "\n",
    "def gf_add(a, b):\n",
    "    return (a+b) % p\n",
    "\n",
    "def gf_sub(a, b):\n",
    "    return (a-b) % p\n",
    "\n",
    "def gf_exp(z, e, mod=p):\n",
    "    x = z\n",
    "    for i in range(254, -1, -1):\n",
    "        x = (x*x) % mod\n",
    "        if shift(e, i):\n",
    "            x = (x*z) % mod\n",
    "    return x\n",
    "\n",
    "def ec_add(x1, y1, x2, y2):\n",
    "    if x1 == 0 and y1 == 0:\n",
    "        return x2, y2\n",
    "    if x2 == 0 and y2 == 0:\n",
    "        return x1, y1\n",
    "\n",
    "    r0 = (y2 - y1) % p\n",
    "    r1 = (x2 - x1) % p\n",
    "    lmbd = (r0 * gf_exp(r1, p-2)) % p\n",
    "    x3 = (lmbd * lmbd - x1 - x2) % p\n",
    "    y3 = (lmbd * (x1 - x3) - y1) % p\n",
    "    return x3, y3\n",
    "\n",
    "def ec_dub(x1, y1):\n",
    "    if x1 == 0 and y1 == 0:\n",
    "        return 0, 0\n",
    "    r0 = (3*x1*x1 + a) % p\n",
    "    r1 = (2*y1) % p\n",
    "    lmbd = (r0 * gf_exp(r1, p-2)) % p\n",
    "    x3 = (lmbd * lmbd - x1 - x1) % p\n",
    "    y3 = (lmbd * (x1 - x3) - y1) % p\n",
    "    return x3, y3\n",
    "\n"
   ]
  },
  {
   "cell_type": "code",
   "execution_count": 125,
   "metadata": {},
   "outputs": [],
   "source": [
    "def ec_spm(k, x, y):\n",
    "    xQ = 0\n",
    "    yQ = 0\n",
    "\n",
    "    for i in range(255, -1, -1):\n",
    "        xQ, yQ = ec_dub(xQ, yQ)\n",
    "        if shift(k, i):\n",
    "            xQ, yQ = ec_add(xQ, yQ, xG, yG)\n",
    "    \n",
    "    return xQ, yQ\n",
    "\n",
    "def ec_sign(k, d, m):\n",
    "    x, y = ec_spm(k, xG, yG)\n",
    "    r = x % q\n",
    "    e = sha256(m)\n",
    "    print(\"e : \", hex(e))\n",
    "    invk = gf_exp(k, q-2, q)\n",
    "    print(\"invk : \", hex(invk))\n",
    "    s = (invk * (e + d*r)) % q\n",
    "    return r, s\n"
   ]
  },
  {
   "cell_type": "code",
   "execution_count": 126,
   "metadata": {},
   "outputs": [
    {
     "name": "stdout",
     "output_type": "stream",
     "text": [
      "e :  0x44acf6b7e36c1342c2c5897204fe09504e1e2efb1a900377dbc4e7a6a133ec56\n",
      "invk :  0x3b549196a13c898a6f6e84dfb3a22c40a8b9b17fb88e408ea674e451cd01d0a6\n",
      "r :  0xf3ac8061b514795b8843e3d6629527ed2afd6b1f6a555a7acabb5e6f79c8c2ac\n",
      "s :  0x8bf77819ca05a6b2786c76262bf7371cef97b218e96f175a3ccdda2acc058903\n",
      "True\n"
     ]
    }
   ],
   "source": [
    "m = 0x5905238877c77421f73e43ee3da6f2d9e2ccad5fc942dcec0cbd25482935faaf416983fe165b1a045ee2bcd2e6dca3bdf46c4310a7461f9a37960ca672d3feb5473e253605fb1ddfd28065b53cb5858a8ad28175bf9bd386a5e471ea7a65c17cc934a9d791e91491eb3754d03799790fe2d308d16146d5c9b0d0debd97d79ce8\n",
    "\n",
    "test_d = 0x519b423d715f8b581f4fa8ee59f4771a5b44c8130b4e3eacca54a56dda72b464\n",
    "test_Qx = 0x1ccbe91c075fc7f4f033bfa248db8fccd3565de94bbfb12f3c59ff46c271bf83\n",
    "test_Qy = 0xce4014c68811f9a21a1fdb2c0e6113e06db7ca93b7404e78dc7ccd5ca89a4ca9\n",
    "test_k = 0x94a1bbb14b906a61a280f245f9e93c7f3b4a6247824f5d33b9670787642a68de\n",
    "test_R = 0xf3ac8061b514795b8843e3d6629527ed2afd6b1f6a555a7acabb5e6f79c8c2ac\n",
    "test_S = 0x8bf77819ca05a6b2786c76262bf7371cef97b218e96f175a3ccdda2acc058903\n",
    "\n",
    "r, s = ec_sign(test_k, test_d, m.to_bytes(128, byteorder='big'))\n",
    "print(\"r : \", hex(r))\n",
    "print(\"s : \", hex(s))\n",
    "print(r == test_R and s == test_S)\n"
   ]
  }
 ],
 "metadata": {
  "kernelspec": {
   "display_name": "Python 3.8.13 64-bit",
   "language": "python",
   "name": "python3"
  },
  "language_info": {
   "codemirror_mode": {
    "name": "ipython",
    "version": 3
   },
   "file_extension": ".py",
   "mimetype": "text/x-python",
   "name": "python",
   "nbconvert_exporter": "python",
   "pygments_lexer": "ipython3",
   "version": "3.8.13"
  },
  "orig_nbformat": 4,
  "vscode": {
   "interpreter": {
    "hash": "5b3ded1ccb95c1d9bd405e7b823d9e85424cde40fbb5985eb47e999ef50e15b4"
   }
  }
 },
 "nbformat": 4,
 "nbformat_minor": 2
}
