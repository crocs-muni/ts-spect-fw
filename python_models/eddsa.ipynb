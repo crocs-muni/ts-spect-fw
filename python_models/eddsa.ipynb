{
 "cells": [
  {
   "cell_type": "code",
   "execution_count": 42,
   "metadata": {},
   "outputs": [],
   "source": [
    "def btoi(x):\n",
    "    return int.from_bytes(x, 'little')"
   ]
  },
  {
   "cell_type": "code",
   "execution_count": 43,
   "metadata": {},
   "outputs": [],
   "source": [
    "## First, some preliminaries that will be needed.\n",
    "\n",
    "import hashlib\n",
    "\n",
    "def sha512(s):\n",
    "    return hashlib.sha512(s).digest()\n",
    "\n",
    "# Base field Z_p\n",
    "p = 2**255 - 19\n",
    "\n",
    "def modp_inv(x):\n",
    "    return pow(x, p-2, p)\n",
    "\n",
    "# Curve constant\n",
    "d = -121665 * modp_inv(121666) % p\n",
    "\n",
    "# Group order\n",
    "q = 2**252 + 27742317777372353535851937790883648493\n",
    "\n",
    "def sha512_modq(s):\n",
    "    return int.from_bytes(sha512(s), \"little\") % q\n",
    "\n",
    "## Then follows functions to perform point operations.\n",
    "\n",
    "# Points are represented as tuples (X, Y, Z, T) of extended\n",
    "# coordinates, with x = X/Z, y = Y/Z, x*y = T/Z\n",
    "\n",
    "def point_add(P, Q):\n",
    "    A, B = (P[1]-P[0]) * (Q[1]-Q[0]) % p, (P[1]+P[0]) * (Q[1]+Q[0]) % p;\n",
    "    C, D = 2 * P[3] * Q[3] * d % p, 2 * P[2] * Q[2] % p;\n",
    "    E, F, G, H = B-A, D-C, D+C, B+A;\n",
    "    return (E*F, G*H, F*G, E*H);\n",
    "\n",
    "# Computes Q = s * Q\n",
    "def point_mul(s, P):\n",
    "    Q = (0, 1, 1, 0)  # Neutral element\n",
    "    while s > 0:\n",
    "        if s & 1:\n",
    "            Q = point_add(Q, P)\n",
    "        P = point_add(P, P)\n",
    "        s >>= 1\n",
    "    return Q\n",
    "\n",
    "def point_equal(P, Q):\n",
    "    # x1 / z1 == x2 / z2  <==>  x1 * z2 == x2 * z1\n",
    "    if (P[0] * Q[2] - Q[0] * P[2]) % p != 0:\n",
    "        return False\n",
    "    if (P[1] * Q[2] - Q[1] * P[2]) % p != 0:\n",
    "        return False\n",
    "    return True\n",
    "\n",
    "## Now follows functions for point compression.\n",
    "\n",
    "# Square root of -1\n",
    "modp_sqrt_m1 = pow(2, (p-1) // 4, p)\n",
    "\n",
    "# Compute corresponding x-coordinate, with low bit corresponding to\n",
    "# sign, or return None on failure\n",
    "def recover_x(y, sign):\n",
    "    if y >= p:\n",
    "        return None\n",
    "    x2 = (y*y-1) * modp_inv(d*y*y+1)\n",
    "    if x2 == 0:\n",
    "        if sign:\n",
    "            return None\n",
    "        else:\n",
    "            return 0\n",
    "\n",
    "    # Compute square root of x2\n",
    "    x = pow(x2, (p+3) // 8, p)\n",
    "    if (x*x - x2) % p != 0:\n",
    "        x = x * modp_sqrt_m1 % p\n",
    "    if (x*x - x2) % p != 0:\n",
    "        return None\n",
    "\n",
    "    if (x & 1) != sign:\n",
    "        x = p - x\n",
    "    return x\n",
    "\n",
    "# Base point\n",
    "g_y = 4 * modp_inv(5) % p\n",
    "g_x = recover_x(g_y, 0)\n",
    "G = (g_x, g_y, 1, g_x * g_y % p)\n",
    "\n",
    "def point_compress(P):\n",
    "    zinv = modp_inv(P[2])\n",
    "    x = P[0] * zinv % p\n",
    "    y = P[1] * zinv % p\n",
    "    return int.to_bytes(y | ((x & 1) << 255), 32, \"little\")\n",
    "\n",
    "def point_decompress(s):\n",
    "    if len(s) != 32:\n",
    "        raise Exception(\"Invalid input length for decompression\")\n",
    "    y = int.from_bytes(s, \"little\")\n",
    "    sign = y >> 255\n",
    "    y &= (1 << 255) - 1\n",
    "\n",
    "    x = recover_x(y, sign)\n",
    "    if x is None:\n",
    "        return None\n",
    "    else:\n",
    "        return (x, y, 1, x*y % p)\n",
    "\n",
    "## These are functions for manipulating the private key.\n",
    "\n",
    "def secret_expand(secret):\n",
    "    if len(secret) != 32:\n",
    "        raise Exception(\"Bad size of private key\")\n",
    "    h = sha512(secret)\n",
    "    a = int.from_bytes(h[:32], \"little\")\n",
    "    a &= (1 << 254) - 8\n",
    "    a |= (1 << 254)\n",
    "    return (a, h[32:])\n",
    "\n",
    "def secret_to_public(secret):\n",
    "    (a, dummy) = secret_expand(secret)\n",
    "    return point_compress(point_mul(a, G))\n",
    "\n",
    "## The signature function works as below.\n",
    "\n",
    "def sign(secret, msg):\n",
    "    a, prefix = secret_expand(secret)\n",
    "    A = point_compress(point_mul(a, G))\n",
    "    r = sha512_modq(prefix + msg)\n",
    "    R = point_mul(r, G)\n",
    "    Rs = point_compress(R)\n",
    "    h = sha512_modq(Rs + A + msg)\n",
    "    s = (r + h * a) % q\n",
    "    return Rs + int.to_bytes(s, 32, \"little\")\n",
    "\n",
    "## And finally the verification function.\n",
    "\n",
    "def verify(public, msg, signature):\n",
    "    if len(public) != 32:\n",
    "        raise Exception(\"Bad public key length\")\n",
    "    if len(signature) != 64:\n",
    "        Exception(\"Bad signature length\")\n",
    "    A = point_decompress(public)\n",
    "    print(\"A:\", hex(A[0]),  hex(A[1]),  hex(A[2]))\n",
    "    if not A:\n",
    "        return False\n",
    "    Rs = signature[:32]\n",
    "    print(\"Rs:\", hex(btoi(Rs)))\n",
    "    R = point_decompress(Rs)\n",
    "    if not R:\n",
    "        return False\n",
    "    s = int.from_bytes(signature[32:], \"little\")\n",
    "    if s >= q: return False\n",
    "    toh = Rs + public + msg\n",
    "    print(\"TOH:\", hex(btoi(toh)))\n",
    "    h = sha512_modq(Rs + public + msg)\n",
    "    print(\"h:\", hex(h))\n",
    "    sB = point_mul(s, G)\n",
    "    hA = point_mul(h, A)\n",
    "    return point_equal(sB, point_add(R, hA))"
   ]
  },
  {
   "cell_type": "code",
   "execution_count": 44,
   "metadata": {},
   "outputs": [],
   "source": [
    "eddsa_in = \"4e7d21fb3b1897571a445833be0f9fd41cd62be3aa04040f8934e1fcbdcacd4531b2524b8348f7ab1dfafa675cc538e9a84e3fe5819e27c12ad8bbc1a36e4dff:31b2524b8348f7ab1dfafa675cc538e9a84e3fe5819e27c12ad8bbc1a36e4dff:33d7a786aded8c1bf691:28e4598c415ae9de01f03f9f3fab4e919e8bf537dd2b0cdf6e79b9e6559c9409d9151a4c40f083193937627c369488259e99da5a9f0a87497fa6696a5dd6ce0833d7a786aded8c1bf691:\""
   ]
  },
  {
   "cell_type": "code",
   "execution_count": 45,
   "metadata": {},
   "outputs": [
    {
     "name": "stdout",
     "output_type": "stream",
     "text": [
      "public: 0xff4d6ea3c1bbd82ac1279e81e53f4ea8e938c55c67fafa1dabf748834b52b231\n",
      "msg: 0x91f61b8cedad86a7d733\n",
      "signature: 0x8ced65d6a69a67f49870a9f5ada999e258894367c6237391983f0404c1a15d909949c55e6b9796edf0c2bdd37f58b9e914eab3f9f3ff001dee95a418c59e428\n",
      "\n",
      "A: 0x4cd530baaf96cfce24c4baf37493d3cc26d6d2c886c8d8938da2c0c48aaa27ab 0x7f4d6ea3c1bbd82ac1279e81e53f4ea8e938c55c67fafa1dabf748834b52b231 0x1\n",
      "Rs: 0x9949c55e6b9796edf0c2bdd37f58b9e914eab3f9f3ff001dee95a418c59e428\n",
      "TOH: 0x91f61b8cedad86a7d733ff4d6ea3c1bbd82ac1279e81e53f4ea8e938c55c67fafa1dabf748834b52b23109949c55e6b9796edf0c2bdd37f58b9e914eab3f9f3ff001dee95a418c59e428\n",
      "h: 0xc41c35527fc3ecea13195c06574ced8b3e32a3b5ea082e240e3aa36aadcd50a\n"
     ]
    }
   ],
   "source": [
    "import sys\n",
    "import binascii\n",
    "\n",
    "def munge_string(s, pos, change):\n",
    "    return (s[:pos] +\n",
    "            int.to_bytes(s[pos] ^ change, 1, \"little\") +\n",
    "            s[pos+1:])\n",
    "\n",
    "# Read a file in the format of\n",
    "# http://ed25519.cr.yp.to/python/sign.input\n",
    "line = eddsa_in\n",
    "fields = line.split(\":\")\n",
    "secret = (binascii.unhexlify(fields[0]))[:32]\n",
    "public = binascii.unhexlify(fields[1])\n",
    "msg = binascii.unhexlify(fields[2])\n",
    "signature = binascii.unhexlify(fields[3])[:64]\n",
    "\n",
    "pubkey = secret_to_public(secret)\n",
    "\n",
    "print(\"public:\", hex(btoi(public)))\n",
    "print(\"msg:\", hex(btoi(msg)))\n",
    "print(\"signature:\", hex(btoi(signature)))\n",
    "print()\n",
    "\n",
    "assert public == pubkey\n",
    "assert signature == sign(secret, msg)\n",
    "assert verify(public, msg, signature)\n",
    "if len(msg) == 0:\n",
    "    bad_msg = b\"x\"\n",
    "else:\n",
    "    bad_msg = munge_string(msg, len(msg) // 3, 4)\n",
    "#assert not verify(public,bad_msg,signature)\n",
    "#assert not verify(public, msg, munge_string(signature,20,8))\n",
    "#assert not verify(public,msg,munge_string(signature,40,16))"
   ]
  },
  {
   "cell_type": "code",
   "execution_count": 67,
   "metadata": {},
   "outputs": [
    {
     "name": "stdout",
     "output_type": "stream",
     "text": [
      "(15112221349535400772501151409588531511454012693041857206046113283949847762202, 46316835694926478169428394003475163141307993866256225615783033603165251855960, 1, 46827403850823179245072216630277197565144205554125654976674165829533817101731)\n",
      "(42783823269122696939284341094755422415180979639778424813682678720006717057747, 46316835694926478169428394003475163141307993866256225615783033603165251855960, 1, 11068640767834918466713275874066756361490786778694627043054626174422747718218)\n",
      "0x0 0x1\n"
     ]
    }
   ],
   "source": [
    "Ginv = ((0 - G[0]) % p, G[1], G[2], (G[0] * (0 - G[1]) % p) % p)\n",
    "#Ginv = (G[0], (0 - G[1]) % p, G[2], (G[0] * (0 - G[1]) % p) % p)\n",
    "print(G)\n",
    "print(Ginv)\n",
    "O = point_add(G, Ginv)\n",
    "Zinv = modp_inv(O[2]) % p\n",
    "print(hex((O[0] * Zinv) % p ), hex((O[1] * Zinv) % p))"
   ]
  },
  {
   "cell_type": "code",
   "execution_count": 63,
   "metadata": {},
   "outputs": [
    {
     "data": {
      "text/plain": [
       "0"
      ]
     },
     "execution_count": 63,
     "metadata": {},
     "output_type": "execute_result"
    }
   ],
   "source": [
    "(Ginv[1] + G[1]) % p"
   ]
  },
  {
   "cell_type": "code",
   "execution_count": 57,
   "metadata": {},
   "outputs": [],
   "source": [
    "a = 0x22\n",
    "ma = (0 - a) % p\n"
   ]
  },
  {
   "cell_type": "code",
   "execution_count": 58,
   "metadata": {},
   "outputs": [
    {
     "data": {
      "text/plain": [
       "0"
      ]
     },
     "execution_count": 58,
     "metadata": {},
     "output_type": "execute_result"
    }
   ],
   "source": [
    "(a + ma) % p"
   ]
  }
 ],
 "metadata": {
  "kernelspec": {
   "display_name": "Python 3.8.13 64-bit",
   "language": "python",
   "name": "python3"
  },
  "language_info": {
   "codemirror_mode": {
    "name": "ipython",
    "version": 3
   },
   "file_extension": ".py",
   "mimetype": "text/x-python",
   "name": "python",
   "nbconvert_exporter": "python",
   "pygments_lexer": "ipython3",
   "version": "3.8.13"
  },
  "orig_nbformat": 4,
  "vscode": {
   "interpreter": {
    "hash": "5b3ded1ccb95c1d9bd405e7b823d9e85424cde40fbb5985eb47e999ef50e15b4"
   }
  }
 },
 "nbformat": 4,
 "nbformat_minor": 2
}
