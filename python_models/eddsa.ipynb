{
 "cells": [
  {
   "cell_type": "code",
   "execution_count": 12,
   "metadata": {},
   "outputs": [],
   "source": [
    "import random as rn"
   ]
  },
  {
   "cell_type": "code",
   "execution_count": 1,
   "metadata": {},
   "outputs": [],
   "source": [
    "def btoi(x):\n",
    "    return int.from_bytes(x, 'little')"
   ]
  },
  {
   "cell_type": "code",
   "execution_count": 161,
   "metadata": {},
   "outputs": [],
   "source": [
    "## First, some preliminaries that will be needed.\n",
    "\n",
    "import hashlib\n",
    "\n",
    "def sha512(s):\n",
    "    return hashlib.sha512(s).digest()\n",
    "\n",
    "# Base field Z_p\n",
    "p = 2**255 - 19\n",
    "\n",
    "def modp_inv(x):\n",
    "    return pow(x, p-2, p)\n",
    "\n",
    "# Curve constant\n",
    "d = -121665 * modp_inv(121666) % p\n",
    "\n",
    "# Group order\n",
    "q = 2**252 + 27742317777372353535851937790883648493\n",
    "\n",
    "def sha512_modq(s):\n",
    "    hsh = sha512(s)\n",
    "    print(\"HSH: \", hsh.hex())\n",
    "    return int.from_bytes(hsh, \"little\") % q\n",
    "\n",
    "## Then follows functions to perform point operations.\n",
    "\n",
    "# Points are represented as tuples (X, Y, Z, T) of extended\n",
    "# coordinates, with x = X/Z, y = Y/Z, x*y = T/Z\n",
    "\n",
    "def point_inv(X):\n",
    "    return (0 - X[0]) % p, X[1], X[2], ((0 - X[3]) % p)\n",
    "\n",
    "def point_add(P, Q):\n",
    "    A, B = (P[1]-P[0]) * (Q[1]-Q[0]) % p, (P[1]+P[0]) * (Q[1]+Q[0]) % p\n",
    "    C, D = 2 * P[3] * Q[3] * d % p, 2 * P[2] * Q[2] % p\n",
    "    E, F, G, H = B-A % p, D-C % p, D+C % p, B+A % p\n",
    "    return (E*F % p, G*H % p, F*G % p, E*H % p)\n",
    "\n",
    "def point_sub(P, Q):\n",
    "    return point_add(P, point_inv(Q))\n",
    "\n",
    "def point_dub(X):\n",
    "    A = X[0]**2 % p\n",
    "    B = X[1]**2 % p\n",
    "    C = 2*(X[2]**2) % p\n",
    "    H = A+B % p\n",
    "    E = H-(X[0]+X[1])**2 % p\n",
    "    G = A-B % p\n",
    "    F = C+G % p\n",
    "    X3 = E*F % p\n",
    "    Y3 = G*H % p\n",
    "    T3 = E*H % p\n",
    "    Z3 = F*G % p\n",
    "    return (X3, Y3, Z3, T3)\n",
    "\n",
    "def swap(P, Q):\n",
    "    return Q, P\n",
    "\n",
    "# Computes Q = s * Q\n",
    "def point_mul(s, P):\n",
    "    Q = (0, 1, 1, 0)  # Neutral element\n",
    "    for i in range(256, -1, -1):\n",
    "        if s & (1 << i):\n",
    "            P, Q = swap(P, Q)\n",
    "        P = point_add(Q, P)\n",
    "        Q = point_dub(Q)\n",
    "        if s & (1 << i):\n",
    "            P, Q = swap(P, Q)\n",
    "    return Q\n",
    "\n",
    "def point_equal(P, Q):\n",
    "    # x1 / z1 == x2 / z2  <==>  x1 * z2 == x2 * z1\n",
    "    if (P[0] * Q[2] - Q[0] * P[2]) % p != 0:\n",
    "        return False\n",
    "    if (P[1] * Q[2] - Q[1] * P[2]) % p != 0:\n",
    "        return False\n",
    "    return True\n",
    "\n",
    "## Now follows functions for point compression.\n",
    "\n",
    "# Square root of -1\n",
    "modp_sqrt_m1 = pow(2, (p-1) // 4, p)\n",
    "\n",
    "# Compute corresponding x-coordinate, with low bit corresponding to\n",
    "# sign, or return None on failure\n",
    "def recover_x(y, sign):\n",
    "    if y >= p:\n",
    "        return None\n",
    "    x2 = (y*y-1) * modp_inv(d*y*y+1)\n",
    "    if x2 == 0:\n",
    "        if sign:\n",
    "            return None\n",
    "        else:\n",
    "            return 0\n",
    "\n",
    "    # Compute square root of x2\n",
    "    x = pow(x2, (p+3) // 8, p)\n",
    "    if (x*x - x2) % p != 0:\n",
    "        x = x * modp_sqrt_m1 % p\n",
    "    if (x*x - x2) % p != 0:\n",
    "        return None\n",
    "\n",
    "    if (x & 1) != sign:\n",
    "        x = p - x\n",
    "    return x\n",
    "\n",
    "# Base point\n",
    "g_y = 4 * modp_inv(5) % p\n",
    "g_x = recover_x(g_y, 0)\n",
    "G = (g_x, g_y, 1, g_x * g_y % p)\n",
    "\n",
    "def point_compress(P):\n",
    "    zinv = modp_inv(P[2])\n",
    "    x = P[0] * zinv % p\n",
    "    y = P[1] * zinv % p\n",
    "    return int.to_bytes(y | ((x & 1) << 255), 32, \"little\")\n",
    "\n",
    "def point_decompress(s):\n",
    "    if len(s) != 32:\n",
    "        raise Exception(\"Invalid input length for decompression\")\n",
    "    y = int.from_bytes(s, \"little\")\n",
    "    sign = y >> 255\n",
    "    y &= (1 << 255) - 1\n",
    "\n",
    "    x = recover_x(y, sign)\n",
    "    if x is None:\n",
    "        return None\n",
    "    else:\n",
    "        return (x, y, 1, x*y % p)\n",
    "\n",
    "def point_print(X):\n",
    "    zinv = modp_inv(X[2])\n",
    "    x = X[0] * zinv % p\n",
    "    y = X[1] * zinv % p\n",
    "    print(hex(x), hex(y))\n",
    "\n",
    "def point_print_full(X):\n",
    "    print(hex(X[0]), hex(X[1]), hex(X[2]), hex(X[3]))\n",
    "\n",
    "## These are functions for manipulating the private key.\n",
    "\n",
    "def secret_expand(secret):\n",
    "    if len(secret) != 32:\n",
    "        raise Exception(\"Bad size of private key\")\n",
    "    h = sha512(secret)\n",
    "    a = int.from_bytes(h[:32], \"little\")\n",
    "    a &= (1 << 254) - 8\n",
    "    a |= (1 << 254)\n",
    "    return (a, h[32:])\n",
    "\n",
    "def secret_to_public(secret):\n",
    "    (a, dummy) = secret_expand(secret)\n",
    "    return point_compress(point_mul(a, G))\n",
    "\n",
    "## The signature function works as below.\n",
    "\n",
    "def sign(secret, msg):\n",
    "    a, prefix = secret_expand(secret)\n",
    "    A = point_compress(point_mul(a, G))\n",
    "    r = sha512_modq(prefix + msg)\n",
    "    R = point_mul(r, G)\n",
    "    Rs = point_compress(R)\n",
    "    h = sha512_modq(Rs + A + msg)\n",
    "    s = (r + h * a) % q\n",
    "    return Rs + int.to_bytes(s, 32, \"little\")\n",
    "\n",
    "## And finally the verification function.\n",
    "\n",
    "def verify(public, msg, signature):\n",
    "    if len(public) != 32:\n",
    "        raise Exception(\"Bad public key length\")\n",
    "    if len(signature) != 64:\n",
    "        Exception(\"Bad signature length\")\n",
    "    A = point_decompress(public)\n",
    "    point_print_full(A)\n",
    "    if not A:\n",
    "        return False\n",
    "    Rs = signature[:32]\n",
    "    R = point_decompress(Rs)\n",
    "    if not R:\n",
    "        return False\n",
    "    s = int.from_bytes(signature[32:], \"little\")\n",
    "    print(\"S:\", hex(s))\n",
    "    if s >= q: return False\n",
    "    toh = Rs + public + msg\n",
    "    print(\"TOH:\", toh.hex())\n",
    "    h = sha512_modq(Rs + public + msg)\n",
    "    print(\"h:\", hex(h))\n",
    "    sB = point_mul(s, G)\n",
    "    hA = point_mul(h, A)\n",
    "    point_print_full(sB)\n",
    "    point_print_full(hA)\n",
    "    xxx = point_sub(sB, hA)\n",
    "    point_print(xxx)\n",
    "    sBmhA = point_compress(xxx)\n",
    "    print(\"\")\n",
    "    print(\"R   :\", Rs.hex())\n",
    "    print(\"RES : \", sBmhA.hex())\n",
    "    print(Rs == sBmhA)\n",
    "    return point_equal(sB, point_add(R, hA))"
   ]
  },
  {
   "cell_type": "code",
   "execution_count": 135,
   "metadata": {},
   "outputs": [
    {
     "data": {
      "text/plain": [
       "'0x52036cee2b6ffe738cc740797779e89800700a4d4141d8ab75eb4dca135978a3'"
      ]
     },
     "execution_count": 135,
     "metadata": {},
     "output_type": "execute_result"
    }
   ],
   "source": [
    "hex(d)"
   ]
  },
  {
   "cell_type": "code",
   "execution_count": 11,
   "metadata": {},
   "outputs": [
    {
     "name": "stdout",
     "output_type": "stream",
     "text": [
      "public: 0xff4d6ea3c1bbd82ac1279e81e53f4ea8e938c55c67fafa1dabf748834b52b231\n",
      "msg: 0x91f61b8cedad86a7d733\n",
      "signature: 0x8ced65d6a69a67f49870a9f5ada999e258894367c6237391983f0404c1a15d909949c55e6b9796edf0c2bdd37f58b9e914eab3f9f3ff001dee95a418c59e428\n",
      "\n",
      "A: 0x4cd530baaf96cfce24c4baf37493d3cc26d6d2c886c8d8938da2c0c48aaa27ab 0x7f4d6ea3c1bbd82ac1279e81e53f4ea8e938c55c67fafa1dabf748834b52b231 0x1\n",
      "Rs: 0x9949c55e6b9796edf0c2bdd37f58b9e914eab3f9f3ff001dee95a418c59e428\n",
      "S: 0x8ced65d6a69a67f49870a9f5ada999e258894367c6237391983f0404c1a15d9\n",
      "TOH: 0x91f61b8cedad86a7d733ff4d6ea3c1bbd82ac1279e81e53f4ea8e938c55c67fafa1dabf748834b52b23109949c55e6b9796edf0c2bdd37f58b9e914eab3f9f3ff001dee95a418c59e428\n",
      "h: 0xc41c35527fc3ecea13195c06574ced8b3e32a3b5ea082e240e3aa36aadcd50a\n"
     ]
    }
   ],
   "source": [
    "import sys\n",
    "import binascii\n",
    "\n",
    "def munge_string(s, pos, change):\n",
    "    return (s[:pos] +\n",
    "            int.to_bytes(s[pos] ^ change, 1, \"little\") +\n",
    "            s[pos+1:])\n",
    "\n",
    "# Read a file in the format of\n",
    "# http://ed25519.cr.yp.to/python/sign.input\n",
    "line = eddsa_in\n",
    "fields = line.split(\":\")\n",
    "secret = (binascii.unhexlify(fields[0]))[:32]\n",
    "public = binascii.unhexlify(fields[1])\n",
    "msg = binascii.unhexlify(fields[2])\n",
    "signature = binascii.unhexlify(fields[3])[:64]\n",
    "\n",
    "pubkey = secret_to_public(secret)\n",
    "\n",
    "print(\"public:\", hex(btoi(public)))\n",
    "print(\"msg:\", hex(btoi(msg)))\n",
    "print(\"signature:\", hex(btoi(signature)))\n",
    "print()\n",
    "\n",
    "assert public == pubkey\n",
    "assert signature == sign(secret, msg)\n",
    "assert verify(public, msg, signature)\n",
    "if len(msg) == 0:\n",
    "    bad_msg = b\"x\"\n",
    "else:\n",
    "    bad_msg = munge_string(msg, len(msg) // 3, 4)\n",
    "#assert not verify(public,bad_msg,signature)\n",
    "#assert not verify(public, msg, munge_string(signature,20,8))\n",
    "#assert not verify(public,msg,munge_string(signature,40,16))"
   ]
  },
  {
   "cell_type": "code",
   "execution_count": 43,
   "metadata": {},
   "outputs": [],
   "source": [
    "msg = rn.randint(0, 2**512-1).to_bytes(64, 'little')"
   ]
  },
  {
   "cell_type": "code",
   "execution_count": 53,
   "metadata": {},
   "outputs": [],
   "source": [
    "msg = \"8f13b3a29344b73d22e681e9faeb3fedb88c94f7504f8f2ac2f17a09fc33a1f6b83275219d83def87aa1f74537c8819db6759c80fff5b4c42aa09b663c5304d9\"\n",
    "msg = binascii.unhexlify(msg)"
   ]
  },
  {
   "cell_type": "code",
   "execution_count": 162,
   "metadata": {},
   "outputs": [
    {
     "name": "stdout",
     "output_type": "stream",
     "text": [
      "HSH:  a612c0a22b876d35171ff7a3a6f92c211e5fa808b8e1b67567239053d428d40720821bb245fe557caee399665421299619ba8370228c38e8349e9a7787c6a849\n",
      "HSH:  702cab421b73a2fc689bd146f1cc09dbd04e6906de658a452325f2284e5eb4cd201deaf8e6523db22e0e88a433ab00554ccde61d7e610d257d89087b8a98eea2\n",
      "MSG  : 8f13b3a29344b73d22e681e9faeb3fedb88c94f7504f8f2ac2f17a09fc33a1f6b83275219d83def87aa1f74537c8819db6759c80fff5b4c42aa09b663c5304d9\n",
      "SIGN : 2002052f204fc13574a176de46fd6f092b2f5c33a3c704a47595cf97eef049abb8b7fdf9e21690f0def687edb4925a9e3de6e03bfe78530c166425e7898f7809\n",
      "PUB  : 31b2524b8348f7ab1dfafa675cc538e9a84e3fe5819e27c12ad8bbc1a36e4dff\n",
      " -- \n",
      "0x4cd530baaf96cfce24c4baf37493d3cc26d6d2c886c8d8938da2c0c48aaa27ab 0x7f4d6ea3c1bbd82ac1279e81e53f4ea8e938c55c67fafa1dabf748834b52b231 0x1 0x7f06d1d06a863df81772760e593646724c7288d419e5ecb4fbf1bd2af579a996\n",
      "S: 0x9788f89e72564160c5378fe3be0e63d9e5a92b4ed87f6def09016e2f9fdb7b8\n",
      "TOH: 2002052f204fc13574a176de46fd6f092b2f5c33a3c704a47595cf97eef049ab31b2524b8348f7ab1dfafa675cc538e9a84e3fe5819e27c12ad8bbc1a36e4dff8f13b3a29344b73d22e681e9faeb3fedb88c94f7504f8f2ac2f17a09fc33a1f6b83275219d83def87aa1f74537c8819db6759c80fff5b4c42aa09b663c5304d9\n",
      "HSH:  702cab421b73a2fc689bd146f1cc09dbd04e6906de658a452325f2284e5eb4cd201deaf8e6523db22e0e88a433ab00554ccde61d7e610d257d89087b8a98eea2\n",
      "h: 0x620c96249fec0ec5dcc593c5772d8f0ea5d853cc1351cc08f388d71f633add8\n",
      "0x2e72388fe0c410ccc691144e9956865d8255fbf4a3ddf5a2afce86acbd6d2dd6 0xa12e93be967d4d6214b59587e16ceb0f8f7a153b42030a528a63604274e4b82 0x187b657bf084b21d1266880dd9e0d4630af99ff9bb451a46ced2692ebeafaa76 0x4bdb56708ec3cd3c8b6c4ecebd49c0e9a0d2ebf3dfa837aaf48e6f5e012e32d5\n",
      "0x249c3237603f9aac354f05a71940e0510cc957f24068ccf80b5031278384e995 0x1370b08c4c971bbad25fb71ab418e9e6a3d62754f4d85923dc20559192ab6da5 0x6df6ca05a9d5275305f87ee26b24dacccc026db0481c0fc1d21b5753cb2659b8 0x4607d1353872972c8820c1fed765f48c93ffa1a94e651ce3d9afc59fce03d4ea\n",
      "0x700b37aa53deaa7ce7593d33231782dcf05d87a7b4dff72ef295e450625ae9d1 0x2b49f0ee97cf9575a404c7a3335c2f2b096ffd46de76a17435c14f202f050220\n",
      "\n",
      "R   : 2002052f204fc13574a176de46fd6f092b2f5c33a3c704a47595cf97eef049ab\n",
      "RES :  2002052f204fc13574a176de46fd6f092b2f5c33a3c704a47595cf97eef049ab\n",
      "True\n"
     ]
    },
    {
     "data": {
      "text/plain": [
       "True"
      ]
     },
     "execution_count": 162,
     "metadata": {},
     "output_type": "execute_result"
    }
   ],
   "source": [
    "signature = sign(secret, msg)\n",
    "\n",
    "print(\"MSG  :\", msg.hex())\n",
    "print(\"SIGN :\", signature.hex())\n",
    "\n",
    "public = secret_to_public(secret)\n",
    "print(\"PUB  :\", public.hex())\n",
    "print(\" -- \")\n",
    "verify(public, msg, signature)\n"
   ]
  },
  {
   "cell_type": "code",
   "execution_count": 158,
   "metadata": {},
   "outputs": [
    {
     "data": {
      "text/plain": [
       "True"
      ]
     },
     "execution_count": 158,
     "metadata": {},
     "output_type": "execute_result"
    }
   ],
   "source": [
    "Q1 = (\n",
    "    0x7ac4a5340c0cd2a7f32d7b47ce4593d11b346696da854f1fe299cfcbf8be8edc,\n",
    "    0x24584354f7e1b9c4a7991dd930d26b13b4e1d107151e056f314a44544a9e54f7,\n",
    "    0x74216e7931100caaaa25fdda763c404974d9987d25631fec0d26b635428b0b6c,\n",
    "    0x578adb28e88d1416e0e615ad55b1a2d97f14bc1707dcd857ee511f159388d995\n",
    ")\n",
    "\n",
    "Q2 = (\n",
    "    0x71396c2da6770bc5e58d761c8a180416efabdcd60ca7070dee60e4a21ead0ad8,\n",
    "    0x5b23871c0192c6773c2eca8cee8af0b3f2a9b6f743675fd050b291d59333ab65,\n",
    "    0x4d822f287799d0b804caf7ef466ba82ebf75019a5dbabcd595f5f1d1e8961af2,\n",
    "    0x43fbad63c42b173221031290f19f3b4703516530c408e637f551c47ff8fd5553\n",
    ")\n",
    "\n",
    "point_equal(Q1, Q2)"
   ]
  },
  {
   "cell_type": "code",
   "execution_count": 150,
   "metadata": {},
   "outputs": [
    {
     "name": "stdout",
     "output_type": "stream",
     "text": [
      "0x1ec11736254444f76a4070c6f32cd4999437afef4b972189ff2fb86ab3644256 0x11b13d7170b9e22a8586a34b2a7e3b703db728a843fac0fb0a7a6b0f159ee87f 0x7396af2b24cbdaa1cf01606607a7c2d514c3511f0e5df106353c31e0e179794b 0x27a1e4cd8ac902b65240ac787d51bbc5b82e9d950e0d78ed3e2dd58456506734\n"
     ]
    }
   ],
   "source": [
    "point_print_full(point_mul(2, G))"
   ]
  },
  {
   "cell_type": "code",
   "execution_count": 149,
   "metadata": {},
   "outputs": [
    {
     "data": {
      "text/plain": [
       "True"
      ]
     },
     "execution_count": 149,
     "metadata": {},
     "output_type": "execute_result"
    }
   ],
   "source": [
    "point_equal(point_mul(2, G), point_add(G, G))"
   ]
  },
  {
   "cell_type": "code",
   "execution_count": 151,
   "metadata": {},
   "outputs": [
    {
     "name": "stdout",
     "output_type": "stream",
     "text": [
      "0x0 0x7fffffffffffffffffffffffffffffffffffffffffffffffffffffffffffffec 0x7fffffffffffffffffffffffffffffffffffffffffffffffffffffffffffffec 0x0\n"
     ]
    }
   ],
   "source": [
    "point_print_full(point_dub((0,1,1,0)))"
   ]
  },
  {
   "cell_type": "code",
   "execution_count": 105,
   "metadata": {},
   "outputs": [
    {
     "name": "stdout",
     "output_type": "stream",
     "text": [
      "0x36ab384c9f5a046c3d043b7d1833e7ac080d8e4515d7a45f83c5a14e2843ce0e 0x2260cdf3092329c21da25ee8c9a21f5697390f51643851560e5f46ae6af8a3c9\n",
      "0x36ab384c9f5a046c3d043b7d1833e7ac080d8e4515d7a45f83c5a14e2843ce0e 0x2260cdf3092329c21da25ee8c9a21f5697390f51643851560e5f46ae6af8a3c9\n"
     ]
    }
   ],
   "source": [
    "point_print(point_add(G, G))\n",
    "point_print(point_dub((G)))"
   ]
  },
  {
   "cell_type": "code",
   "execution_count": 106,
   "metadata": {},
   "outputs": [
    {
     "data": {
      "text/plain": [
       "True"
      ]
     },
     "execution_count": 106,
     "metadata": {},
     "output_type": "execute_result"
    }
   ],
   "source": [
    "point_equal(point_add(G, G), point_dub((G)))"
   ]
  },
  {
   "cell_type": "code",
   "execution_count": 49,
   "metadata": {},
   "outputs": [
    {
     "name": "stdout",
     "output_type": "stream",
     "text": [
      "0x0 0x7fffffffffffffffffffffffffffffffffffffffffffffffffffffffffffffec 0x0 0x1\n"
     ]
    }
   ],
   "source": [
    "kio = point_dub((0, 1, 1, 0))\n",
    "print(hex(kio[0]), hex(kio[1]), hex(kio[2]), hex(kio[3]))"
   ]
  },
  {
   "cell_type": "code",
   "execution_count": 140,
   "metadata": {},
   "outputs": [
    {
     "name": "stdout",
     "output_type": "stream",
     "text": [
      "0x216936d3cd6e53fec0a4e231fdd6dc5c692cc7609525a7b2c9562d608f25d51a 0x6666666666666666666666666666666666666666666666666666666666666658 0x1 0x67875f0fd78b766566ea4e8e64abe37d20f09f80775152f56dde8ab3a5b7dda3\n"
     ]
    }
   ],
   "source": [
    "point_print_full(G)"
   ]
  },
  {
   "cell_type": "code",
   "execution_count": 143,
   "metadata": {},
   "outputs": [
    {
     "name": "stdout",
     "output_type": "stream",
     "text": [
      "0x44fd2f9298f81267a5c18434688f8a09fd399f05d140beb39d103905d740913e\n",
      "0x7cf9d3a33d4ba65270b4898643d42c2cf932dc6fb8c0e192fbc93c6f58c3b85\n",
      "0x0\n",
      "0x2\n",
      "-0x3d2d9258652358027eb63b9c045247472da6713ed5b4b09a6d53a53ee1b455b9\n",
      "0x2\n",
      "0x2\n",
      "0x4cccccccccccccccccccccccccccccccccccccccccccccccccccccccccccccc3\n",
      "0x5a4db4f35b94ffb029388c7f75b7171a4b31d8254969ecb2558b5823c97547b 0x1999999999999999999999999999999999999999999999999999999999999999 0x4 0x1e1d7c3f5e2dd9959ba93a3992af8df483c27e01dd454bd5b77a2ace96df76c5\n"
     ]
    }
   ],
   "source": [
    "point_print_full(point_add((0,1,1,0), G))"
   ]
  },
  {
   "cell_type": "code",
   "execution_count": 153,
   "metadata": {},
   "outputs": [
    {
     "data": {
      "text/plain": [
       "True"
      ]
     },
     "execution_count": 153,
     "metadata": {},
     "output_type": "execute_result"
    }
   ],
   "source": [
    "T = (\n",
    "    0x5dfa71625b7aba864c18300a5e4b5c6e98ee6d891ec11736254444f76a4070b9,\n",
    "    0x662bbe321c924b2cd95e2d7fde976e9b5825ddb291b13d7170b9e22a8586a33c,\n",
    "    0x00339299d16374a93d0278de7aaa015005eefc74f396af2b24cbdaa1cf016066,\n",
    "    0x3fedf0bb190eb34e071b4d499c956aabe752f53e27a1e4cd8ac902b65240ac6f\n",
    ")\n",
    "point_equal(T, point_mul(2, G))"
   ]
  }
 ],
 "metadata": {
  "kernelspec": {
   "display_name": "Python 3.8.13 64-bit",
   "language": "python",
   "name": "python3"
  },
  "language_info": {
   "codemirror_mode": {
    "name": "ipython",
    "version": 3
   },
   "file_extension": ".py",
   "mimetype": "text/x-python",
   "name": "python",
   "nbconvert_exporter": "python",
   "pygments_lexer": "ipython3",
   "version": "3.8.13"
  },
  "orig_nbformat": 4,
  "vscode": {
   "interpreter": {
    "hash": "5b3ded1ccb95c1d9bd405e7b823d9e85424cde40fbb5985eb47e999ef50e15b4"
   }
  }
 },
 "nbformat": 4,
 "nbformat_minor": 2
}
